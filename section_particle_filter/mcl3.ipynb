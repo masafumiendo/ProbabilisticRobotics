{
 "cells": [
  {
   "cell_type": "code",
   "execution_count": 3,
   "metadata": {},
   "outputs": [],
   "source": [
    "import sys\n",
    "sys.path.append('../scripts/')\n",
    "from robot import *"
   ]
  },
  {
   "cell_type": "code",
   "execution_count": 4,
   "metadata": {},
   "outputs": [],
   "source": [
    "class Particle:\n",
    "    def __init__(self, init_pose):\n",
    "        self.pose = init_pose"
   ]
  },
  {
   "cell_type": "code",
   "execution_count": 5,
   "metadata": {},
   "outputs": [],
   "source": [
    "class Mcl:\n",
    "    def __init__(self, init_pose, num):\n",
    "        self.particles = [Particle(init_pose) for i in range(num)]\n",
    "        \n",
    "    def draw(self, ax, elems):\n",
    "        xs = [p.pose[0] for p in self.particles]\n",
    "        ys = [p.pose[1] for p in self.particles]\n",
    "        vxs = [math.cos(p.pose[2]) for p in self.particles]\n",
    "        vys = [math.sin(p.pose[2]) for p in self.particles]\n",
    "        elems.append(ax.quiver(xs, ys, vxs, vys, color='blue', alpha=0.5))"
   ]
  },
  {
   "cell_type": "code",
   "execution_count": 6,
   "metadata": {},
   "outputs": [],
   "source": [
    "class EstimationAgent(Agent):\n",
    "    def __init__(self, nu, omega, estimator):\n",
    "        super().__init__(nu, omega)\n",
    "        self.estimator = estimator\n",
    "        \n",
    "    def draw(self, ax, elems):\n",
    "        self.estimator.draw(ax, elems)"
   ]
  },
  {
   "cell_type": "code",
   "execution_count": 8,
   "metadata": {},
   "outputs": [
    {
     "data": {
      "application/vnd.jupyter.widget-view+json": {
       "model_id": "6edd1340c5df4b79a9dd138bff2b0669",
       "version_major": 2,
       "version_minor": 0
      },
      "text/plain": [
       "Canvas(toolbar=Toolbar(toolitems=[('Home', 'Reset original view', 'home', 'home'), ('Back', 'Back to previous …"
      ]
     },
     "metadata": {},
     "output_type": "display_data"
    }
   ],
   "source": [
    "world = World(30, 0.1)\n",
    "\n",
    "m = Map()\n",
    "for ln in [(-4, 2), (2, -3), (3, 3)]: m.append_landmark(Landmark(*ln))\n",
    "world.append(m)\n",
    "\n",
    "# Generate robot\n",
    "initial_pose = np.array([2, 2, math.pi/6]).T\n",
    "estimator = Mcl(initial_pose, 100)\n",
    "circling = EstimationAgent(0.2, 10.0/180*math.pi, estimator)\n",
    "r = Robot(initial_pose, sensor=Camera(m), agent=circling)\n",
    "world.append(r)\n",
    "\n",
    "# Execute animation\n",
    "world.draw()"
   ]
  },
  {
   "cell_type": "code",
   "execution_count": null,
   "metadata": {},
   "outputs": [],
   "source": []
  }
 ],
 "metadata": {
  "kernelspec": {
   "display_name": "Python 3",
   "language": "python",
   "name": "python3"
  },
  "language_info": {
   "codemirror_mode": {
    "name": "ipython",
    "version": 3
   },
   "file_extension": ".py",
   "mimetype": "text/x-python",
   "name": "python",
   "nbconvert_exporter": "python",
   "pygments_lexer": "ipython3",
   "version": "3.7.6"
  }
 },
 "nbformat": 4,
 "nbformat_minor": 4
}
