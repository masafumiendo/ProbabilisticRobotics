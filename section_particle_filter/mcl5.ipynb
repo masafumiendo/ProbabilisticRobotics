{
 "cells": [
  {
   "cell_type": "code",
   "execution_count": 1,
   "metadata": {},
   "outputs": [],
   "source": [
    "import sys\n",
    "sys.path.append('../scripts/')\n",
    "from robot import *\n",
    "from scipy.stats import multivariate_normal"
   ]
  },
  {
   "cell_type": "code",
   "execution_count": 2,
   "metadata": {},
   "outputs": [],
   "source": [
    "class Particle:\n",
    "    def __init__(self, init_pose):\n",
    "        self.pose = init_pose\n",
    "        \n",
    "    def motion_update(self, nu, omega, time, noise_rate_pdf):\n",
    "        ns = noise_rate_pdf.rvs()\n",
    "        pnu = nu + ns[0]*math.sqrt(abs(nu)/time) + ns[1]*math.sqrt(abs(omega)/time)\n",
    "        pomega = omega + ns[2]*math.sqrt(abs(nu)/time) + ns[3]*math.sqrt(abs(omega)/time)\n",
    "        self.pose = IdealRobot.state_transition(pnu, pomega, time, self.pose)"
   ]
  },
  {
   "cell_type": "code",
   "execution_count": 3,
   "metadata": {},
   "outputs": [],
   "source": [
    "class Mcl:\n",
    "    def __init__(self, init_pose, num, motion_noise_stds):\n",
    "        self.particles = [Particle(init_pose) for i in range(num)]\n",
    "        \n",
    "        v = motion_noise_stds\n",
    "        c = np.diag([v[\"nn\"]**2, v[\"no\"]**2, v[\"on\"]**2, v[\"oo\"]**2])\n",
    "        self.motion_noise_rate_pdf = multivariate_normal(cov=c)\n",
    "        \n",
    "    def motion_update(self, nu, omega, time):\n",
    "        for p in self.particles: p.motion_update(nu, omega, time, self.motion_noise_rate_pdf)\n",
    "        \n",
    "    def draw(self, ax, elems):\n",
    "        xs = [p.pose[0] for p in self.particles]\n",
    "        ys = [p.pose[1] for p in self.particles]\n",
    "        vxs = [math.cos(p.pose[2]) for p in self.particles]\n",
    "        vys = [math.sin(p.pose[2]) for p in self.particles]\n",
    "        elems.append(ax.quiver(xs, ys, vxs, vys, color='blue', alpha=0.5))"
   ]
  },
  {
   "cell_type": "code",
   "execution_count": 4,
   "metadata": {},
   "outputs": [],
   "source": [
    "class EstimationAgent(Agent):\n",
    "    def __init__(self, time_interval, nu, omega, estimator):\n",
    "        super().__init__(nu, omega)\n",
    "        self.estimator = estimator\n",
    "        self.time_interval = time_interval\n",
    "        \n",
    "        self.prev_nu = 0.0\n",
    "        self.prev_omega = 0.0\n",
    "        \n",
    "    def decision(self, observation=None):\n",
    "        self.estimator.motion_update(self.prev_nu, self.prev_omega, self.time_interval)\n",
    "        self.prev_nu, self.prev_omega = self.nu, self.omega\n",
    "        return self.nu, self.omega\n",
    "        \n",
    "    def draw(self, ax, elems):\n",
    "        self.estimator.draw(ax, elems)"
   ]
  },
  {
   "cell_type": "code",
   "execution_count": 5,
   "metadata": {},
   "outputs": [
    {
     "name": "stdout",
     "output_type": "stream",
     "text": [
      "[0.01861132 0.00026497 0.02847183]\n",
      "[0.02446909 0.00015962 0.01304649]\n",
      "[0.01535682 0.0001026  0.01336149]\n",
      "[0.02180838 0.00023348 0.02141149]\n",
      "[1.39276748e-02 6.54017299e-05 9.39155318e-03]\n",
      "[0.01644658 0.00015301 0.01860583]\n",
      "[0.02141668 0.00023828 0.02225085]\n",
      "[0.02304837 0.00022735 0.01972737]\n",
      "[0.01942919 0.00016815 0.01730842]\n",
      "[0.02333941 0.00022308 0.01911575]\n",
      "[0.01908874 0.00025019 0.02621232]\n",
      "[0.01690758 0.00013327 0.01576454]\n",
      "[0.01995153 0.00024433 0.02449159]\n",
      "[0.02397996 0.00025197 0.02101431]\n",
      "[0.02350277 0.00029328 0.02495551]\n",
      "[0.01984664 0.00013278 0.01338046]\n",
      "[0.01893942 0.00025447 0.02687006]\n",
      "[0.01800121 0.00023228 0.02580628]\n",
      "[0.0181643  0.00016115 0.01774283]\n",
      "[0.02032352 0.00015215 0.01497212]\n",
      "[0.02265129 0.00020404 0.01801485]\n",
      "[0.01502418 0.00015472 0.0205958 ]\n",
      "[0.01999174 0.0002042  0.02042814]\n",
      "[1.65460977e-02 7.55598499e-05 9.13318972e-03]\n",
      "[0.02247647 0.00012856 0.01143974]\n",
      "[0.02489204 0.00028707 0.02306417]\n",
      "[0.01823291 0.00025759 0.02825312]\n",
      "[0.01987907 0.00033865 0.03406749]\n",
      "[0.02023858 0.00015663 0.01547773]\n",
      "[0.01887374 0.00012789 0.01355196]\n",
      "[0.01870341 0.00031048 0.0331973 ]\n",
      "[0.01484999 0.00015941 0.02146834]\n",
      "[0.01835091 0.00020681 0.02253811]\n",
      "[0.02220002 0.0002281  0.02054893]\n",
      "[0.02199253 0.0001102  0.01002153]\n",
      "[0.02057217 0.00026245 0.02551329]\n",
      "[1.48365008e-02 8.77179263e-05 1.18244734e-02]\n",
      "[1.58364155e-02 9.55124951e-05 1.20622419e-02]\n",
      "[0.0172821  0.00013142 0.01520896]\n",
      "[0.02136371 0.00026346 0.02466335]\n",
      "[0.02477878 0.00022882 0.01846836]\n",
      "[0.01830583 0.00023614 0.02579839]\n",
      "[0.02570289 0.00033    0.02567673]\n",
      "[0.02411554 0.00012765 0.01058634]\n",
      "[0.02203797 0.00041796 0.03792617]\n",
      "[0.0203187  0.00020266 0.01994765]\n",
      "[0.01378702 0.00015221 0.02207961]\n",
      "[0.02190671 0.00021335 0.01947724]\n",
      "[0.0250559  0.00026226 0.02093287]\n",
      "[0.02017069 0.00016815 0.01667229]\n",
      "[0.02074626 0.00018869 0.01818977]\n",
      "[0.02335415 0.00017131 0.01467012]\n",
      "[0.01633176 0.00017625 0.02158252]\n",
      "[0.02240726 0.00015451 0.01379088]\n",
      "[0.02096262 0.00029986 0.02860664]\n",
      "[0.02161296 0.00012961 0.01199389]\n",
      "[0.02253727 0.00015826 0.01404417]\n",
      "[0.01736109 0.00010825 0.01247001]\n",
      "[0.01730349 0.00022161 0.02561312]\n",
      "[0.01815994 0.00010989 0.01210195]\n",
      "[0.01324312 0.00020906 0.03157025]\n",
      "[1.91817913e-02 4.76626878e-05 4.96956607e-03]\n",
      "[0.02600147 0.00022794 0.01753249]\n",
      "[0.02105635 0.00012342 0.01172299]\n",
      "[0.02392562 0.00026554 0.02219625]\n",
      "[0.02462795 0.00016957 0.01377001]\n",
      "[0.02548407 0.00043149 0.03385991]\n",
      "[0.01800748 0.0001724  0.01914649]\n",
      "[0.02107683 0.0002594  0.02461322]\n",
      "[0.01898756 0.0001115  0.01174459]\n",
      "[0.0155535  0.00015558 0.02000517]\n",
      "[0.01892479 0.00020427 0.02158723]\n",
      "[2.38077942e-02 8.86282869e-05 7.44528257e-03]\n",
      "[0.01994177 0.00014701 0.01474369]\n",
      "[0.01674041 0.00014764 0.01763846]\n",
      "[0.01590484 0.00018695 0.02350687]\n",
      "[1.83704994e-02 1.50597906e-05 1.63956210e-03]\n",
      "[0.01623151 0.0001395  0.01718876]\n",
      "[0.0180166  0.00011764 0.01305899]\n",
      "[0.02243021 0.00022623 0.0201709 ]\n",
      "[1.70360198e-02 8.93373665e-05 1.04879601e-02]\n",
      "[0.01999167 0.00011434 0.01143892]\n",
      "[0.01662183 0.00021878 0.02632237]\n",
      "[0.01857791 0.0001216  0.01309094]\n",
      "[0.02138335 0.00019428 0.01817026]\n",
      "[0.02244543 0.00023137 0.02061538]\n",
      "[0.02115479 0.00013406 0.01267443]\n",
      "[0.02001144 0.00025295 0.02527871]\n",
      "[0.01660031 0.00020616 0.02483673]\n",
      "[0.02201927 0.0001024  0.00930105]\n",
      "[0.02092623 0.00014153 0.01352625]\n",
      "[0.02745749 0.00026784 0.01950907]\n",
      "[0.02217374 0.0002166  0.01953609]\n",
      "[0.01859319 0.00020121 0.02164218]\n",
      "[0.01513608 0.00025361 0.03350799]\n",
      "[1.74545162e-02 3.84210861e-05 4.40241639e-03]\n",
      "[0.01975037 0.00014577 0.01476142]\n",
      "[1.69594440e-02 7.85231539e-05 9.26004329e-03]\n",
      "[0.02413291 0.00013723 0.01137264]\n",
      "[0.01845051 0.00025585 0.02773147]\n"
     ]
    }
   ],
   "source": [
    "initial_pose = np.array([0, 0, 0]).T \n",
    "estimator = Mcl(initial_pose, 100, motion_noise_stds={\"nn\":0.01, \"no\":0.02, \"on\":0.03, \"oo\":0.04})\n",
    "a = EstimationAgent(0.1, 0.2, 10.0/180*math.pi, estimator)\n",
    "estimator.motion_update(0.2, 10.0/180*math.pi, 0.1)\n",
    "for p in estimator.particles:\n",
    "    print(p.pose)"
   ]
  },
  {
   "cell_type": "code",
   "execution_count": 6,
   "metadata": {},
   "outputs": [
    {
     "data": {
      "application/vnd.jupyter.widget-view+json": {
       "model_id": "dbd9de6af6054b96863389855a4b6444",
       "version_major": 2,
       "version_minor": 0
      },
      "text/plain": [
       "Canvas(toolbar=Toolbar(toolitems=[('Home', 'Reset original view', 'home', 'home'), ('Back', 'Back to previous …"
      ]
     },
     "metadata": {},
     "output_type": "display_data"
    }
   ],
   "source": [
    "def trial(motion_noise_stds): \n",
    "    time_interval = 0.1 \n",
    "    world = World(30, time_interval) \n",
    "\n",
    "    initial_pose = np.array([0, 0, 0]).T\n",
    "    estimator = Mcl(initial_pose, 100, motion_noise_stds)\n",
    "    circling = EstimationAgent(time_interval, 0.2, 10.0/180*math.pi, estimator)\n",
    "    r = Robot(initial_pose, sensor=None, agent=circling, color=\"red\" )\n",
    "    world.append(r)\n",
    "\n",
    "    world.draw()\n",
    "    \n",
    "trial({\"nn\":0.01, \"no\":0.02, \"on\":0.03, \"oo\":0.04})"
   ]
  },
  {
   "cell_type": "code",
   "execution_count": null,
   "metadata": {},
   "outputs": [],
   "source": []
  }
 ],
 "metadata": {
  "kernelspec": {
   "display_name": "Python 3",
   "language": "python",
   "name": "python3"
  },
  "language_info": {
   "codemirror_mode": {
    "name": "ipython",
    "version": 3
   },
   "file_extension": ".py",
   "mimetype": "text/x-python",
   "name": "python",
   "nbconvert_exporter": "python",
   "pygments_lexer": "ipython3",
   "version": "3.7.6"
  }
 },
 "nbformat": 4,
 "nbformat_minor": 4
}
