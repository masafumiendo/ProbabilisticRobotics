{
 "cells": [
  {
   "cell_type": "code",
   "execution_count": 7,
   "metadata": {},
   "outputs": [],
   "source": [
    "import sys\n",
    "sys.path.append('../scripts/')\n",
    "from robot import *\n",
    "from scipy.stats import multivariate_normal"
   ]
  },
  {
   "cell_type": "code",
   "execution_count": 8,
   "metadata": {},
   "outputs": [],
   "source": [
    "class Particle:\n",
    "    def __init__(self, init_pose):\n",
    "        self.pose = init_pose\n",
    "        \n",
    "    def motion_update(self, nu, omega, time, noise_rate_pdf):\n",
    "        ns = noise_rate_pdf.rvs()\n",
    "        pnu = nu + ns[0]*math.sqrt(abs(nu)/time) + ns[1]*math.sqrt(abs(omega)/time)\n",
    "        pomega = omega + ns[2]*math.sqrt(abs(nu)/time) + ns[3]*math.sqrt(abs(omega)/time)\n",
    "        self.pose = IdealRobot.state_transition(pnu, pomega, time, self.pose)"
   ]
  },
  {
   "cell_type": "code",
   "execution_count": 9,
   "metadata": {},
   "outputs": [],
   "source": [
    "class Mcl:\n",
    "    def __init__(self, init_pose, num, motion_noise_stds):\n",
    "        self.particles = [Particle(init_pose) for i in range(num)]\n",
    "        \n",
    "        v = motion_noise_stds\n",
    "        c = np.diag([v[\"nn\"]**2, v[\"no\"]**2, v[\"on\"]**2, v[\"oo\"]**2])\n",
    "        self.motion_noise_rate_pdf = multivariate_normal(cov=c)\n",
    "        \n",
    "    def motion_update(self, nu, omega, time):\n",
    "        for p in self.particles: p.motion_update(nu, omega, time, self.motion_noise_rate_pdf)\n",
    "        \n",
    "    def draw(self, ax, elems):\n",
    "        xs = [p.pose[0] for p in self.particles]\n",
    "        ys = [p.pose[1] for p in self.particles]\n",
    "        vxs = [math.cos(p.pose[2]) for p in self.particles]\n",
    "        vys = [math.sin(p.pose[2]) for p in self.particles]\n",
    "        elems.append(ax.quiver(xs, ys, vxs, vys, color='blue', alpha=0.5))"
   ]
  },
  {
   "cell_type": "code",
   "execution_count": 10,
   "metadata": {},
   "outputs": [],
   "source": [
    "class EstimationAgent(Agent):\n",
    "    def __init__(self, time_interval, nu, omega, estimator):\n",
    "        super().__init__(nu, omega)\n",
    "        self.estimator = estimator\n",
    "        self.time_interval = time_interval\n",
    "        \n",
    "        self.prev_nu = 0.0\n",
    "        self.prev_omega = 0.0\n",
    "        \n",
    "    def decision(self, observation=None):\n",
    "        self.estimator.motion_update(self.prev_nu, self.prev_omega, self.time_interval)\n",
    "        self.prev_nu, self.prev_omega = self.nu, self.omega\n",
    "        return self.nu, self.omega\n",
    "        \n",
    "    def draw(self, ax, elems):\n",
    "        self.estimator.draw(ax, elems)"
   ]
  },
  {
   "cell_type": "code",
   "execution_count": 11,
   "metadata": {},
   "outputs": [
    {
     "name": "stdout",
     "output_type": "stream",
     "text": [
      "[0.021691   0.00020989 0.01935215]\n",
      "[2.11168192e-02 9.98758312e-05 9.45929265e-03]\n",
      "[0.01833633 0.00024298 0.02650109]\n",
      "[0.02009605 0.00014253 0.01418445]\n",
      "[0.02231872 0.00026431 0.02368394]\n",
      "[2.03915053e-02 4.44640247e-05 4.36102716e-03]\n",
      "[0.02112585 0.0002303  0.02180203]\n",
      "[0.02039906 0.00015393 0.01509187]\n",
      "[1.29734248e-02 5.69932412e-05 8.78609550e-03]\n",
      "[1.57082541e-02 2.04746633e-05 2.60686536e-03]\n",
      "[0.01568145 0.00014013 0.01787126]\n",
      "[0.01538039 0.00016765 0.02179915]\n",
      "[0.02037599 0.00017013 0.01669853]\n",
      "[0.01956701 0.00014919 0.01524926]\n",
      "[0.0157346  0.00014837 0.01885827]\n",
      "[0.02363332 0.00018313 0.01549769]\n",
      "[2.04829415e-02 1.69559116e-05 1.65561257e-03]\n",
      "[0.01653273 0.00015588 0.01885612]\n",
      "[0.02740895 0.0001705  0.01244113]\n",
      "[0.02389656 0.00025924 0.02169593]\n",
      "[0.01988735 0.00011728 0.01179406]\n",
      "[0.01912321 0.00018485 0.01933154]\n",
      "[0.01979453 0.00013525 0.01366516]\n",
      "[0.01760283 0.00021383 0.02429425]\n",
      "[0.0225941  0.00019464 0.01722905]\n",
      "[0.02161713 0.00014304 0.01323375]\n",
      "[0.01997263 0.00011198 0.01121278]\n",
      "[0.0195139  0.0001349  0.01382583]\n",
      "[0.02379767 0.00024472 0.02056594]\n",
      "[0.02517934 0.00016776 0.01332536]\n",
      "[0.02125214 0.00026269 0.02472031]\n",
      "[0.02275721 0.00022011 0.01934394]\n",
      "[2.51577787e-02 3.13992858e-05 2.49618775e-03]\n",
      "[0.01925683 0.00016402 0.01703507]\n",
      "[0.02302554 0.00012688 0.01102111]\n",
      "[0.01683906 0.00022964 0.0272724 ]\n",
      "[0.01979156 0.00013405 0.01354601]\n",
      "[2.51327305e-02 8.00561629e-05 6.37064819e-03]\n",
      "[0.02187962 0.0002141  0.01957002]\n",
      "[0.02221565 0.00010532 0.00948155]\n",
      "[0.0220501  0.00014057 0.0127498 ]\n",
      "[0.01793759 0.00016481 0.01837544]\n",
      "[0.02089614 0.00015266 0.01461097]\n",
      "[0.0185259  0.000129   0.01392657]\n",
      "[0.01909246 0.00015374 0.01610424]\n",
      "[0.01432982 0.00020582 0.02872442]\n",
      "[0.02429907 0.00024409 0.02008976]\n",
      "[0.01460013 0.00010611 0.01453563]\n",
      "[0.02335895 0.00014565 0.01247041]\n",
      "[0.01617418 0.00011884 0.014695  ]\n",
      "[0.02182066 0.00023051 0.02112695]\n",
      "[0.02318618 0.00010387 0.00895952]\n",
      "[0.01649558 0.00014203 0.01722007]\n",
      "[0.02006009 0.00010083 0.01005292]\n",
      "[1.99823986e-02 6.74248958e-05 6.74840307e-03]\n",
      "[0.0238985  0.00023917 0.02001461]\n",
      "[0.01825048 0.00019689 0.02157565]\n",
      "[0.0219568  0.00018367 0.01672969]\n",
      "[0.01786262 0.00024392 0.02730923]\n",
      "[0.01316161 0.0001904  0.02893038]\n",
      "[0.01730034 0.00021305 0.02462842]\n",
      "[0.02046649 0.00018278 0.01786097]\n",
      "[2.03455504e-02 2.46730104e-05 2.42539502e-03]\n",
      "[0.0234671  0.00018535 0.01579641]\n",
      "[0.02256745 0.00018207 0.01613572]\n",
      "[0.02089753 0.00024297 0.02325196]\n",
      "[0.01711132 0.00014239 0.01664197]\n",
      "[1.81440279e-02 8.44478367e-05 9.30854246e-03]\n",
      "[0.01782247 0.00013693 0.01536606]\n",
      "[0.02512432 0.00032739 0.02605991]\n",
      "[0.01908009 0.00020536 0.02152513]\n",
      "[2.33330138e-02 4.98627401e-05 4.27400118e-03]\n",
      "[0.01998533 0.00023076 0.02309169]\n",
      "[0.01732315 0.00015594 0.01800311]\n",
      "[0.01913766 0.00018162 0.01897947]\n",
      "[2.03271532e-02 7.61505210e-05 7.49245743e-03]\n",
      "[0.01781021 0.00033615 0.03774399]\n",
      "[0.0163996  0.00011448 0.01396138]\n",
      "[0.02368223 0.00021019 0.01775003]\n",
      "[0.02011009 0.00011787 0.01172205]\n",
      "[0.02008744 0.00020059 0.01997136]\n",
      "[2.24519358e-02 4.58740527e-05 4.08641725e-03]\n",
      "[1.14664120e-02 9.90090403e-05 1.72689730e-02]\n",
      "[0.02317174 0.00011468 0.0098978 ]\n",
      "[0.0182797  0.00014773 0.01616312]\n",
      "[0.02021409 0.00021015 0.02079168]\n",
      "[0.01410734 0.00014039 0.01990247]\n",
      "[1.76474512e-02 5.51759056e-05 6.25310990e-03]\n",
      "[0.02116967 0.00022039 0.0208208 ]\n",
      "[0.0178717  0.00012341 0.01381055]\n",
      "[0.02164406 0.00023107 0.02135132]\n",
      "[0.01717344 0.00019698 0.02293958]\n",
      "[0.01574341 0.00010217 0.0129794 ]\n",
      "[0.02025423 0.00031686 0.03128538]\n",
      "[0.01486171 0.00013876 0.01867244]\n",
      "[0.01827317 0.00020179 0.02208509]\n",
      "[1.96079965e-02 6.36042017e-05 6.48755506e-03]\n",
      "[0.02025809 0.00013222 0.01305361]\n",
      "[0.02064715 0.00032562 0.03153904]\n",
      "[0.01786124 0.00023755 0.02659746]\n"
     ]
    }
   ],
   "source": [
    "initial_pose = np.array([0, 0, 0]).T \n",
    "estimator = Mcl(initial_pose, 100, motion_noise_stds={\"nn\":0.01, \"no\":0.02, \"on\":0.03, \"oo\":0.04})\n",
    "a = EstimationAgent(0.1, 0.2, 10.0/180*math.pi, estimator)\n",
    "estimator.motion_update(0.2, 10.0/180*math.pi, 0.1)\n",
    "for p in estimator.particles:\n",
    "    print(p.pose)"
   ]
  },
  {
   "cell_type": "code",
   "execution_count": 12,
   "metadata": {},
   "outputs": [
    {
     "data": {
      "application/vnd.jupyter.widget-view+json": {
       "model_id": "a46170ab430346d396637232ae2a222a",
       "version_major": 2,
       "version_minor": 0
      },
      "text/plain": [
       "Canvas(toolbar=Toolbar(toolitems=[('Home', 'Reset original view', 'home', 'home'), ('Back', 'Back to previous …"
      ]
     },
     "metadata": {},
     "output_type": "display_data"
    }
   ],
   "source": [
    "def trial(motion_noise_stds): \n",
    "    time_interval = 0.1 \n",
    "    world = World(30, time_interval) \n",
    "\n",
    "    initial_pose = np.array([0, 0, 0]).T\n",
    "    estimator = Mcl(initial_pose, 100, motion_noise_stds)\n",
    "    circling = EstimationAgent(time_interval, 0.2, 10.0/180*math.pi, estimator)\n",
    "    r = Robot(initial_pose, sensor=None, agent=circling, color=\"red\" )\n",
    "    world.append(r)\n",
    "\n",
    "    world.draw()\n",
    "    \n",
    "trial({\"nn\":0.01, \"no\":0.02, \"on\":0.03, \"oo\":0.04})"
   ]
  },
  {
   "cell_type": "code",
   "execution_count": null,
   "metadata": {},
   "outputs": [],
   "source": []
  },
  {
   "cell_type": "code",
   "execution_count": null,
   "metadata": {},
   "outputs": [],
   "source": []
  }
 ],
 "metadata": {
  "kernelspec": {
   "display_name": "Python 3",
   "language": "python",
   "name": "python3"
  },
  "language_info": {
   "codemirror_mode": {
    "name": "ipython",
    "version": 3
   },
   "file_extension": ".py",
   "mimetype": "text/x-python",
   "name": "python",
   "nbconvert_exporter": "python",
   "pygments_lexer": "ipython3",
   "version": "3.7.6"
  }
 },
 "nbformat": 4,
 "nbformat_minor": 4
}
