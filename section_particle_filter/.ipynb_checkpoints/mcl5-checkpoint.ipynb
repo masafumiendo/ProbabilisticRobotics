{
 "cells": [
  {
   "cell_type": "code",
   "execution_count": 9,
   "metadata": {},
   "outputs": [],
   "source": [
    "import sys\n",
    "sys.path.append('../scripts/')\n",
    "from robot import *\n",
    "from scipy.stats import multivariate_normal"
   ]
  },
  {
   "cell_type": "code",
   "execution_count": 10,
   "metadata": {},
   "outputs": [],
   "source": [
    "class Particle:\n",
    "    def __init__(self, init_pose):\n",
    "        self.pose = init_pose\n",
    "        \n",
    "    def motion_update(self, nu, omega, time, noise_rate_pdf):\n",
    "        ns = noise_rate_pdf.rvs()\n",
    "        pnu = nu + ns[0]*math.sqrt(abs(nu)/time) + ns[1]*math.sqrt(abs(omega)/time)\n",
    "        pomega = omega + ns[2]*math.sqrt(abs(nu)/time) + ns[3]*math.sqrt(abs(omega)/time)\n",
    "        self.pose = IdealRobot.state_transition(pnu, pomega, time, self.pose)"
   ]
  },
  {
   "cell_type": "code",
   "execution_count": 11,
   "metadata": {},
   "outputs": [],
   "source": [
    "class Mcl:\n",
    "    def __init__(self, init_pose, num, motion_noise_stds):\n",
    "        self.particles = [Particle(init_pose) for i in range(num)]\n",
    "        \n",
    "        v = motion_noise_stds\n",
    "        c = np.diag([v[\"nn\"]**2, v[\"no\"]**2, v[\"on\"]**2, v[\"oo\"]**2])\n",
    "        self.motion_noise_rate_pdf = multivariate_normal(cov=c)\n",
    "        \n",
    "    def motion_update(self, nu, omega, time):\n",
    "        for p in self.particles: p.motion_update(nu, omega, time, self.motion_noise_rate_pdf)\n",
    "        \n",
    "    def draw(self, ax, elems):\n",
    "        xs = [p.pose[0] for p in self.particles]\n",
    "        ys = [p.pose[1] for p in self.particles]\n",
    "        vxs = [math.cos(p.pose[2]) for p in self.particles]\n",
    "        vys = [math.sin(p.pose[2]) for p in self.particles]\n",
    "        elems.append(ax.quiver(xs, ys, vxs, vys, color='blue', alpha=0.5))"
   ]
  },
  {
   "cell_type": "code",
   "execution_count": 12,
   "metadata": {},
   "outputs": [],
   "source": [
    "class EstimationAgent(Agent):\n",
    "    def __init__(self, time_interval, nu, omega, estimator):\n",
    "        super().__init__(nu, omega)\n",
    "        self.estimator = estimator\n",
    "        self.time_interval = time_interval\n",
    "        \n",
    "        self.prev_nu = 0.0\n",
    "        self.prev_omega = 0.0\n",
    "        \n",
    "    def decision(self, observation=None):\n",
    "        self.estimator.motion_update(self.prev_nu, self.prev_omega, self.time_interval)\n",
    "        self.prev_nu, self.prev_omega = self.nu, self.omega\n",
    "        self.estimator.observation_update(observation)\n",
    "        return self.nu, self.omega\n",
    "        \n",
    "    def draw(self, ax, elems):\n",
    "        self.estimator.draw(ax, elems)"
   ]
  },
  {
   "cell_type": "code",
   "execution_count": 13,
   "metadata": {},
   "outputs": [
    {
     "name": "stdout",
     "output_type": "stream",
     "text": [
      "[0.02242636 0.00016295 0.01453158]\n",
      "[0.02343106 0.00045291 0.03865437]\n",
      "[0.02178346 0.00018513 0.0169968 ]\n",
      "[0.01654745 0.00014858 0.0179579 ]\n",
      "[0.02347408 0.00030706 0.02615996]\n",
      "[0.02162253 0.00014855 0.01374015]\n",
      "[1.84829909e-02 8.81154765e-05 9.53469160e-03]\n",
      "[0.02107525 0.000336   0.03188278]\n",
      "[1.92463268e-02 8.75421124e-05 9.09695751e-03]\n",
      "[0.01936337 0.00015655 0.01616927]\n",
      "[1.90536503e-02 7.42826246e-05 7.79716718e-03]\n",
      "[0.01989932 0.00011324 0.01138164]\n",
      "[0.02270012 0.00026344 0.02320965]\n",
      "[0.02188921 0.0002333  0.02131592]\n",
      "[0.01792245 0.00013622 0.01520103]\n",
      "[2.01231697e-02 6.28234222e-05 6.24386903e-03]\n",
      "[0.01723168 0.00025878 0.03003351]\n",
      "[1.94643648e-02 6.88876556e-05 7.07830630e-03]\n",
      "[0.02012173 0.00024886 0.02473463]\n",
      "[0.01694346 0.00023698 0.02797067]\n",
      "[1.40325752e-02 7.20271498e-05 1.02656164e-02]\n",
      "[0.02238491 0.00018138 0.01620503]\n",
      "[0.02082743 0.00019653 0.01887176]\n",
      "[0.02580581 0.00032087 0.02486646]\n",
      "[0.02380599 0.0001455  0.01222368]\n",
      "[0.01841838 0.00018827 0.02044257]\n",
      "[1.54825150e-02 8.48711004e-05 1.09633674e-02]\n",
      "[ 2.19803701e-02 -2.92380146e-05 -2.66037353e-03]\n",
      "[0.02172387 0.00019363 0.0178262 ]\n",
      "[0.02373903 0.00021441 0.01806378]\n",
      "[0.01890728 0.00028046 0.02966447]\n",
      "[0.02076822 0.00021272 0.02048444]\n",
      "[0.02345708 0.00024177 0.0206135 ]\n",
      "[0.01695379 0.00021965 0.02590977]\n",
      "[0.02183142 0.00019994 0.01831575]\n",
      "[0.02025921 0.00022618 0.02232769]\n",
      "[1.42015222e-02 4.70194705e-05 6.62172660e-03]\n",
      "[0.02305259 0.00013133 0.01139383]\n",
      "[0.01726496 0.00010495 0.0121578 ]\n",
      "[1.80607409e-02 4.22027801e-05 4.67341882e-03]\n",
      "[0.01910338 0.00030223 0.03163895]\n",
      "[0.02291531 0.0001967  0.0171668 ]\n",
      "[0.01364535 0.00011141 0.01632895]\n",
      "[0.0220013  0.00032313 0.02937127]\n",
      "[0.01916958 0.00015405 0.01607234]\n",
      "[0.0219352  0.00017166 0.01565118]\n",
      "[0.02235747 0.00015649 0.01399889]\n",
      "[0.01740671 0.00011696 0.01343871]\n",
      "[0.02135819 0.00021378 0.02001831]\n",
      "[0.0189856  0.00024492 0.02579897]\n",
      "[1.51771210e-02 8.99188271e-05 1.18491214e-02]\n",
      "[0.02233556 0.00025881 0.02317397]\n",
      "[0.02042371 0.00021103 0.02066436]\n",
      "[0.01709951 0.00013821 0.01616541]\n",
      "[2.10485589e-02 7.59381751e-05 7.21549117e-03]\n",
      "[0.01580364 0.00016934 0.02142967]\n",
      "[0.02144879 0.00031179 0.02907071]\n",
      "[1.77164057e-02 5.93879458e-06 6.70428806e-04]\n",
      "[1.70840048e-02 9.24676413e-05 1.08249488e-02]\n",
      "[0.01517349 0.00018713 0.02466427]\n",
      "[0.0198627  0.00013228 0.01331902]\n",
      "[0.0196578  0.00018649 0.01897339]\n",
      "[0.01950777 0.00030421 0.0311858 ]\n",
      "[1.46410311e-02 8.98095173e-05 1.22680418e-02]\n",
      "[0.01836892 0.00011969 0.01303197]\n",
      "[0.01613272 0.00013915 0.01725011]\n",
      "[0.02223939 0.00024601 0.02212272]\n",
      "[0.02338363 0.00010341 0.00884444]\n",
      "[0.0192205  0.00017273 0.01797337]\n",
      "[0.01987534 0.00024173 0.02432365]\n",
      "[0.02033021 0.00017165 0.01688609]\n",
      "[0.0165182  0.00017401 0.02106773]\n",
      "[0.01919455 0.0002242  0.02335955]\n",
      "[1.65795912e-02 7.37124631e-05 8.89189325e-03]\n",
      "[0.0184089  0.00015539 0.01688193]\n",
      "[1.31849974e-02 9.50434400e-05 1.44166572e-02]\n",
      "[0.01203389 0.00017404 0.02892331]\n",
      "[0.02192745 0.0001769  0.01613489]\n",
      "[0.02458303 0.000121   0.00984389]\n",
      "[1.82072936e-02 8.83873156e-05 9.70892468e-03]\n",
      "[0.0206599  0.00019305 0.01868799]\n",
      "[0.02394015 0.00021075 0.01760568]\n",
      "[0.02255318 0.00021677 0.01922264]\n",
      "[1.47625777e-02 5.30848433e-05 7.19178122e-03]\n",
      "[1.60492976e-02 7.87272550e-05 9.81060050e-03]\n",
      "[0.02079733 0.00017757 0.01707613]\n",
      "[1.94671911e-02 8.70444304e-05 8.94262043e-03]\n",
      "[0.01797464 0.00016004 0.01780651]\n",
      "[0.01928898 0.00025217 0.02614544]\n",
      "[0.01847933 0.00016309 0.01765021]\n",
      "[0.01984828 0.00021034 0.02119429]\n",
      "[0.02201036 0.00018191 0.0165294 ]\n",
      "[0.01525017 0.00021757 0.02853184]\n",
      "[0.02077622 0.00025571 0.02461415]\n",
      "[2.05263000e-02 8.97805679e-05 8.74780117e-03]\n",
      "[0.01656487 0.00012614 0.0152296 ]\n",
      "[0.02371411 0.00017111 0.01443108]\n",
      "[0.01818617 0.00023586 0.0259364 ]\n",
      "[0.01723    0.00010528 0.01221982]\n",
      "[0.01675571 0.00024165 0.02884184]\n"
     ]
    }
   ],
   "source": [
    "initial_pose = np.array([0, 0, 0]).T \n",
    "estimator = Mcl(initial_pose, 100, motion_noise_stds={\"nn\":0.01, \"no\":0.02, \"on\":0.03, \"oo\":0.04})\n",
    "a = EstimationAgent(0.1, 0.2, 10.0/180*math.pi, estimator)\n",
    "estimator.motion_update(0.2, 10.0/180*math.pi, 0.1)\n",
    "for p in estimator.particles:\n",
    "    print(p.pose)"
   ]
  },
  {
   "cell_type": "code",
   "execution_count": 14,
   "metadata": {},
   "outputs": [
    {
     "data": {
      "application/vnd.jupyter.widget-view+json": {
       "model_id": "4d5554146d0c408799d3545538960f2e",
       "version_major": 2,
       "version_minor": 0
      },
      "text/plain": [
       "Canvas(toolbar=Toolbar(toolitems=[('Home', 'Reset original view', 'home', 'home'), ('Back', 'Back to previous …"
      ]
     },
     "metadata": {},
     "output_type": "display_data"
    }
   ],
   "source": [
    "def trial(motion_noise_stds): \n",
    "    time_interval = 0.1 \n",
    "    world = World(30, time_interval) \n",
    "\n",
    "    initial_pose = np.array([0, 0, 0]).T\n",
    "    estimator = Mcl(initial_pose, 100, motion_noise_stds)\n",
    "    circling = EstimationAgent(time_interval, 0.2, 10.0/180*math.pi, estimator)\n",
    "    r = Robot(initial_pose, sensor=None, agent=circling, color=\"red\" )\n",
    "    world.append(r)\n",
    "\n",
    "    world.draw()\n",
    "    \n",
    "trial({\"nn\":0.01, \"no\":0.02, \"on\":0.03, \"oo\":0.04})"
   ]
  }
 ],
 "metadata": {
  "kernelspec": {
   "display_name": "Python 3",
   "language": "python",
   "name": "python3"
  },
  "language_info": {
   "codemirror_mode": {
    "name": "ipython",
    "version": 3
   },
   "file_extension": ".py",
   "mimetype": "text/x-python",
   "name": "python",
   "nbconvert_exporter": "python",
   "pygments_lexer": "ipython3",
   "version": "3.7.6"
  }
 },
 "nbformat": 4,
 "nbformat_minor": 4
}
