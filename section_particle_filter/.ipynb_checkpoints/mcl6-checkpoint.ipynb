{
 "cells": [
  {
   "cell_type": "code",
   "execution_count": 7,
   "metadata": {},
   "outputs": [],
   "source": [
    "import sys\n",
    "sys.path.append('../scripts/')\n",
    "from robot import *\n",
    "from scipy.stats import multivariate_normal"
   ]
  },
  {
   "cell_type": "code",
   "execution_count": 8,
   "metadata": {},
   "outputs": [],
   "source": [
    "class Particle:\n",
    "    def __init__(self, init_pose):\n",
    "        self.pose = init_pose\n",
    "        \n",
    "    def motion_update(self, nu, omega, time, noise_rate_pdf):\n",
    "        ns = noise_rate_pdf.rvs()\n",
    "        pnu = nu + ns[0]*math.sqrt(abs(nu)/time) + ns[1]*math.sqrt(abs(omega)/time)\n",
    "        pomega = omega + ns[2]*math.sqrt(abs(nu)/time) + ns[3]*math.sqrt(abs(omega)/time)\n",
    "        self.pose = IdealRobot.state_transition(pnu, pomega, time, self.pose)"
   ]
  },
  {
   "cell_type": "code",
   "execution_count": 9,
   "metadata": {},
   "outputs": [],
   "source": [
    "class Mcl:\n",
    "    def __init__(self, init_pose, num, motion_noise_stds):\n",
    "        self.particles = [Particle(init_pose) for i in range(num)]\n",
    "        \n",
    "        v = motion_noise_stds\n",
    "        c = np.diag([v[\"nn\"]**2, v[\"no\"]**2, v[\"on\"]**2, v[\"oo\"]**2])\n",
    "        self.motion_noise_rate_pdf = multivariate_normal(cov=c)\n",
    "        \n",
    "    def motion_update(self, nu, omega, time):\n",
    "        for p in self.particles: p.motion_update(nu, omega, time, self.motion_noise_rate_pdf)\n",
    "        \n",
    "    def draw(self, ax, elems):\n",
    "        xs = [p.pose[0] for p in self.particles]\n",
    "        ys = [p.pose[1] for p in self.particles]\n",
    "        vxs = [math.cos(p.pose[2]) for p in self.particles]\n",
    "        vys = [math.sin(p.pose[2]) for p in self.particles]\n",
    "        elems.append(ax.quiver(xs, ys, vxs, vys, color='blue', alpha=0.5))"
   ]
  },
  {
   "cell_type": "code",
   "execution_count": 10,
   "metadata": {},
   "outputs": [],
   "source": [
    "class EstimationAgent(Agent):\n",
    "    def __init__(self, time_interval, nu, omega, estimator):\n",
    "        super().__init__(nu, omega)\n",
    "        self.estimator = estimator\n",
    "        self.time_interval = time_interval\n",
    "        \n",
    "        self.prev_nu = 0.0\n",
    "        self.prev_omega = 0.0\n",
    "        \n",
    "    def decision(self, observation=None):\n",
    "        self.estimator.motion_update(self.prev_nu, self.prev_omega, self.time_interval)\n",
    "        self.prev_nu, self.prev_omega = self.nu, self.omega\n",
    "        return self.nu, self.omega\n",
    "        \n",
    "    def draw(self, ax, elems):\n",
    "        self.estimator.draw(ax, elems)"
   ]
  },
  {
   "cell_type": "code",
   "execution_count": 11,
   "metadata": {},
   "outputs": [
    {
     "name": "stdout",
     "output_type": "stream",
     "text": [
      "[0.0181679  0.00017809 0.01960428]\n",
      "[0.01946126 0.00019028 0.01955366]\n",
      "[0.02515099 0.00024104 0.01916664]\n",
      "[0.02022493 0.00021248 0.02101064]\n",
      "[0.01931563 0.00021371 0.02212698]\n",
      "[0.02049776 0.00017688 0.01725807]\n",
      "[0.02029206 0.00020719 0.02041972]\n",
      "[0.02288745 0.00026842 0.02345441]\n",
      "[0.02194471 0.00020603 0.01877633]\n",
      "[0.0176416  0.00016194 0.0183589 ]\n",
      "[0.0178089  0.00019488 0.02188525]\n",
      "[0.01744347 0.00028172 0.03229858]\n",
      "[0.02317693 0.00019701 0.0169999 ]\n",
      "[0.01481686 0.00010514 0.01419109]\n",
      "[1.87041092e-02 5.54272420e-05 5.92672756e-03]\n",
      "[2.25580157e-02 6.43792732e-05 5.70786891e-03]\n",
      "[1.67712397e-02 6.30180658e-05 7.51498044e-03]\n",
      "[ 2.12430236e-02 -3.17436643e-05 -2.98861793e-03]\n",
      "[0.02251107 0.00023566 0.02093608]\n",
      "[0.01691263 0.00014244 0.0168434 ]\n",
      "[0.01888196 0.00018319 0.01940359]\n",
      "[0.0203416  0.00022502 0.02212357]\n",
      "[0.01685127 0.00015213 0.01805456]\n",
      "[0.02003026 0.00026381 0.02633912]\n",
      "[0.01602671 0.00011167 0.01393557]\n",
      "[0.02443467 0.00021134 0.01729794]\n",
      "[0.02540253 0.00021799 0.01716225]\n",
      "[0.02094084 0.00010526 0.01005271]\n",
      "[0.01969754 0.00021927 0.0222626 ]\n",
      "[0.02550292 0.00025173 0.019741  ]\n",
      "[0.02456415 0.00013082 0.01065156]\n",
      "[0.01997824 0.00021984 0.0220072 ]\n",
      "[2.46940312e-02 3.94482425e-05 3.19495903e-03]\n",
      "[0.0223071  0.00010706 0.00959883]\n",
      "[0.01893441 0.00019881 0.02099869]\n",
      "[0.01641836 0.00014996 0.01826629]\n",
      "[0.01630249 0.00018948 0.02324428]\n",
      "[0.02203077 0.00018772 0.01704141]\n",
      "[0.02225631 0.00021714 0.01951167]\n",
      "[0.02105135 0.00017654 0.01677171]\n",
      "[0.0220043  0.00026377 0.02397344]\n",
      "[0.01804708 0.00012936 0.01433569]\n",
      "[0.01430901 0.00014851 0.02075684]\n",
      "[0.01829253 0.0001466  0.01602758]\n",
      "[0.01744517 0.00022447 0.02573314]\n",
      "[0.02383221 0.00026683 0.02239179]\n",
      "[0.02044219 0.00017653 0.0172706 ]\n",
      "[0.02159153 0.00020812 0.01927765]\n",
      "[0.02494654 0.00019832 0.01589906]\n",
      "[2.56661936e-02 5.00329443e-05 3.89873789e-03]\n",
      "[0.02259398 0.00016338 0.01446158]\n",
      "[0.02329959 0.00023948 0.02055578]\n",
      "[1.59569999e-02 9.39568718e-05 1.17761216e-02]\n",
      "[1.54812871e-02 9.63836203e-05 1.24514679e-02]\n",
      "[0.01692311 0.00027602 0.03261798]\n",
      "[0.02395302 0.00012665 0.01057476]\n",
      "[1.27334054e-02 8.25553055e-05 1.29665469e-02]\n",
      "[0.02449974 0.00030306 0.02473889]\n",
      "[0.01701157 0.00019733 0.02319898]\n",
      "[0.01810747 0.00015286 0.01688372]\n",
      "[0.01623303 0.00024755 0.03049772]\n",
      "[0.02453236 0.00016325 0.01330846]\n",
      "[0.02429801 0.00025307 0.02082939]\n",
      "[0.01352782 0.00016857 0.02492121]\n",
      "[0.0194604  0.00016391 0.01684559]\n",
      "[0.01841266 0.0001377  0.01495686]\n",
      "[0.02086571 0.00019999 0.01916897]\n",
      "[0.02002158 0.00017739 0.01771967]\n",
      "[0.02096022 0.00023465 0.02238936]\n",
      "[0.0173348  0.00014111 0.01627975]\n",
      "[2.10808003e-02 9.07310359e-05 8.60787774e-03]\n",
      "[0.02301712 0.0003163  0.02748219]\n",
      "[1.86436111e-02 9.69544925e-05 1.04007339e-02]\n",
      "[1.60141523e-02 8.82434299e-05 1.10205692e-02]\n",
      "[0.026175   0.00019198 0.01466855]\n",
      "[0.02406399 0.00017679 0.01469283]\n",
      "[0.01525446 0.00016507 0.02164132]\n",
      "[1.78900440e-02 7.13360805e-05 7.97490518e-03]\n",
      "[1.79651463e-02 6.55351938e-05 7.29578286e-03]\n",
      "[0.02069746 0.00010149 0.0098068 ]\n",
      "[0.0230432  0.00025636 0.02224921]\n",
      "[0.01481595 0.00010024 0.01353093]\n",
      "[0.01855709 0.00024082 0.02595284]\n",
      "[0.02222038 0.00019464 0.01751867]\n",
      "[0.01778095 0.00010818 0.01216798]\n",
      "[0.0191558  0.00028886 0.03015706]\n",
      "[0.0226431  0.00041174 0.03636349]\n",
      "[0.02010613 0.00014665 0.01458703]\n",
      "[0.02201668 0.00026855 0.02439357]\n",
      "[2.00040216e-02 8.74595864e-05 8.74414465e-03]\n",
      "[0.01758538 0.00012119 0.01378307]\n",
      "[0.01818335 0.00014888 0.01637551]\n",
      "[0.02369773 0.0001991  0.01680316]\n",
      "[0.02344728 0.00012988 0.01107802]\n",
      "[0.02619882 0.00017574 0.01341572]\n",
      "[0.01835925 0.00018294 0.0199281 ]\n",
      "[0.02510626 0.0001326  0.01056324]\n",
      "[0.02018118 0.00017082 0.01692849]\n",
      "[0.01851625 0.00014033 0.01515746]\n",
      "[0.01407828 0.00015685 0.02228161]\n"
     ]
    }
   ],
   "source": [
    "initial_pose = np.array([0, 0, 0]).T \n",
    "estimator = Mcl(initial_pose, 100, motion_noise_stds={\"nn\":0.01, \"no\":0.02, \"on\":0.03, \"oo\":0.04})\n",
    "a = EstimationAgent(0.1, 0.2, 10.0/180*math.pi, estimator)\n",
    "estimator.motion_update(0.2, 10.0/180*math.pi, 0.1)\n",
    "for p in estimator.particles:\n",
    "    print(p.pose)"
   ]
  },
  {
   "cell_type": "code",
   "execution_count": 12,
   "metadata": {},
   "outputs": [
    {
     "data": {
      "application/vnd.jupyter.widget-view+json": {
       "model_id": "7ee2040ea24748dcb1171d76e1671bf4",
       "version_major": 2,
       "version_minor": 0
      },
      "text/plain": [
       "Canvas(toolbar=Toolbar(toolitems=[('Home', 'Reset original view', 'home', 'home'), ('Back', 'Back to previous …"
      ]
     },
     "metadata": {},
     "output_type": "display_data"
    }
   ],
   "source": [
    "def trial(motion_noise_stds): \n",
    "    time_interval = 0.1 \n",
    "    world = World(30, time_interval) \n",
    "\n",
    "    initial_pose = np.array([0, 0, 0]).T\n",
    "    estimator = Mcl(initial_pose, 100, motion_noise_stds)\n",
    "    circling = EstimationAgent(time_interval, 0.2, 10.0/180*math.pi, estimator)\n",
    "    r = Robot(initial_pose, sensor=None, agent=circling, color=\"red\" )\n",
    "    world.append(r)\n",
    "\n",
    "    world.draw()\n",
    "    \n",
    "trial({\"nn\":0.01, \"no\":0.02, \"on\":0.03, \"oo\":0.04})"
   ]
  },
  {
   "cell_type": "code",
   "execution_count": null,
   "metadata": {},
   "outputs": [],
   "source": []
  }
 ],
 "metadata": {
  "kernelspec": {
   "display_name": "Python 3",
   "language": "python",
   "name": "python3"
  },
  "language_info": {
   "codemirror_mode": {
    "name": "ipython",
    "version": 3
   },
   "file_extension": ".py",
   "mimetype": "text/x-python",
   "name": "python",
   "nbconvert_exporter": "python",
   "pygments_lexer": "ipython3",
   "version": "3.7.6"
  }
 },
 "nbformat": 4,
 "nbformat_minor": 4
}
