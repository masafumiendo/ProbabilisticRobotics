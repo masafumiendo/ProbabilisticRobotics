{
 "cells": [
  {
   "cell_type": "code",
   "execution_count": 2,
   "metadata": {},
   "outputs": [],
   "source": [
    "import sys\n",
    "sys.path.append('../scripts/')\n",
    "from mcl import *"
   ]
  },
  {
   "cell_type": "code",
   "execution_count": 3,
   "metadata": {},
   "outputs": [
    {
     "data": {
      "application/vnd.jupyter.widget-view+json": {
       "model_id": "fa9da373f2104e4d95eef3109ac32519",
       "version_major": 2,
       "version_minor": 0
      },
      "text/plain": [
       "Canvas(toolbar=Toolbar(toolitems=[('Home', 'Reset original view', 'home', 'home'), ('Back', 'Back to previous …"
      ]
     },
     "metadata": {},
     "output_type": "display_data"
    }
   ],
   "source": [
    "def trial():\n",
    "    time_interval = 0.1\n",
    "    world = World(30, time_interval, debug=False)\n",
    "    \n",
    "    m = Map()\n",
    "    for ln in [(-4, 2), (2, -3), (3, 3)]: m.append_landmark(Landmark(*ln))\n",
    "    world.append(m)\n",
    "    \n",
    "    initial_pose = np.array([0, 0, 0]).T\n",
    "    estimator = Mcl(m, initial_pose, 100)\n",
    "    a = EstimationAgent(time_interval, 0.2, 10.0/180*math.pi, estimator)\n",
    "    r = Robot(initial_pose, sensor=Camera(m), agent=a, color='red')\n",
    "    world.append(r)\n",
    "    \n",
    "    world.draw()\n",
    "    \n",
    "trial()"
   ]
  },
  {
   "cell_type": "code",
   "execution_count": null,
   "metadata": {},
   "outputs": [],
   "source": []
  }
 ],
 "metadata": {
  "kernelspec": {
   "display_name": "Python 3",
   "language": "python",
   "name": "python3"
  },
  "language_info": {
   "codemirror_mode": {
    "name": "ipython",
    "version": 3
   },
   "file_extension": ".py",
   "mimetype": "text/x-python",
   "name": "python",
   "nbconvert_exporter": "python",
   "pygments_lexer": "ipython3",
   "version": "3.7.6"
  }
 },
 "nbformat": 4,
 "nbformat_minor": 4
}
