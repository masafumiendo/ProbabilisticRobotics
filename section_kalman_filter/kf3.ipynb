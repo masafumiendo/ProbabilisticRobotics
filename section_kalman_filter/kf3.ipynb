{
 "cells": [
  {
   "cell_type": "code",
   "execution_count": 1,
   "metadata": {},
   "outputs": [],
   "source": [
    "import sys\n",
    "sys.path.append('../scripts/')\n",
    "from mcl import *\n",
    "from scipy.stats import multivariate_normal\n",
    "from matplotlib.patches import Ellipse"
   ]
  },
  {
   "cell_type": "code",
   "execution_count": 2,
   "metadata": {},
   "outputs": [],
   "source": [
    "def sigma_ellipse(p, cov, n):\n",
    "    eig_vals, eig_vec = np.linalg.eig(cov)\n",
    "    ang = math.atan2(eig_vec[:, 0][1], eig_vec[:, 0][0]) / math.pi * 180\n",
    "    return Ellipse(p, width=2*n*math.sqrt(eig_vals[0]), height=2*n*math.sqrt(eig_vals[1]), angle=ang, fill=False, color='blue', alpha=0.5)\n",
    "\n",
    "def matM(nu, omega, time, stds):\n",
    "    return np.diag([stds['nn']**2*abs(nu)/time + stds['no']**2*abs(omega)/time,\n",
    "                   stds['on']**2*abs(nu)/time + stds['oo']**2*abs(omega)/time])\n",
    "\n",
    "def matA(nu, omega, time, theta):\n",
    "    st, ct = math.sin(theta), math.cos(theta)\n",
    "    stw, ctw = math.sin(theta + omega*time), math.cos(theta + omega*time)\n",
    "    return np.array([[(stw - st)/omega, -nu/(omega**2)*(stw - st) + nu/omega*time*ctw],\n",
    "                    [(-ctw + ct)/omega, -nu/(omega**2)*(-ctw + ct) + nu/omega*time*stw],\n",
    "                    [0, time]])\n",
    "\n",
    "def matF(nu, omega, time, theta):\n",
    "    F = np.diag([1.0, 1.0, 1.0])\n",
    "    F[0, 2] = nu / omega * (math.cos(theta + omega * time) - math.cos(theta))\n",
    "    F[1, 2] = nu / omega * (math.sin(theta + omega * time) - math.sin(theta))\n",
    "    return F"
   ]
  },
  {
   "cell_type": "code",
   "execution_count": 3,
   "metadata": {},
   "outputs": [],
   "source": [
    "class KalmanFilter:\n",
    "    def __init__(self, envmap, init_pose, motion_noise_stds={\"nn\": 0.19, \"no\": 0.001, \"on\": 0.13, \"oo\": 0.2}):\n",
    "        self.belief = multivariate_normal(mean=np.array([0.0, 0.0, 0.0]), cov=np.diag([1e-10, 1e-10, 1e-10]))\n",
    "        self.motion_noise_stds = motion_noise_stds\n",
    "        self.pose = self.belief.mean\n",
    "            \n",
    "    def observation_update(self, observation):\n",
    "        pass\n",
    "    \n",
    "    def motion_update(self, nu, omega, time):\n",
    "        if abs(omega) < 1e-5: omega = 1e-5\n",
    "            \n",
    "        M = matM(nu, omega, time, self.motion_noise_stds)\n",
    "        A = matA(nu, omega, time, self.belief.mean[2])\n",
    "        F = matF(nu, omega, time, self.belief.mean[2])\n",
    "        self.belief.cov = F.dot(self.belief.cov).dot(F.T) + A.dot(M).dot(A.T)\n",
    "        self.belief.mean = IdealRobot.state_transition(nu, omega, time, self.belief.mean)\n",
    "        self.pose = self.belief.mean\n",
    "    \n",
    "    def draw(self, ax, elems):\n",
    "        e = sigma_ellipse(self.belief.mean[0:2], self.belief.cov[0:2, 0:2], 3)\n",
    "        elems.append(ax.add_patch(e))\n",
    "        \n",
    "        x, y, c = self.belief.mean\n",
    "        sigma3 = math.sqrt(self.belief.cov[2, 2]) * 3\n",
    "        xs = [x + math.cos(c-sigma3), x, x + math.cos(c+sigma3)]\n",
    "        ys = [y + math.sin(c-sigma3), y, y + math.sin(c+sigma3)]\n",
    "        elems += ax.plot(xs, ys, color='blue', alpha=0.5)"
   ]
  },
  {
   "cell_type": "code",
   "execution_count": 4,
   "metadata": {},
   "outputs": [
    {
     "data": {
      "application/vnd.jupyter.widget-view+json": {
       "model_id": "06674d3b388845c99bc7042c3a874ba2",
       "version_major": 2,
       "version_minor": 0
      },
      "text/plain": [
       "Canvas(toolbar=Toolbar(toolitems=[('Home', 'Reset original view', 'home', 'home'), ('Back', 'Back to previous …"
      ]
     },
     "metadata": {},
     "output_type": "display_data"
    }
   ],
   "source": [
    "if __name__ == '__main__':\n",
    "    time_interval = 0.1\n",
    "    world = World(30, time_interval, debug=False)\n",
    "    \n",
    "    m = Map()\n",
    "    for ln in [(-4, 2), (2, -3), (3, 3)]: m.append_landmark(Landmark(*ln))\n",
    "    world.append(m)\n",
    "    \n",
    "    initial_pose = np.array([0, 0, 0]).T\n",
    "    kf = KalmanFilter(m, initial_pose)\n",
    "    circling = EstimationAgent(time_interval, 0.2, 10.0/180*math.pi, kf)\n",
    "    r = Robot(initial_pose, sensor=Camera(m), agent=circling, color='red')\n",
    "    world.append(r)\n",
    "    \n",
    "    kf = KalmanFilter(m, initial_pose)\n",
    "    linear = EstimationAgent(time_interval, 0.1, 0.0, kf)\n",
    "    r = Robot(initial_pose, sensor=Camera(m), agent=linear, color='red')\n",
    "    world.append(r)\n",
    "    \n",
    "    kf = KalmanFilter(m, initial_pose)\n",
    "    right = EstimationAgent(time_interval, 0.1, -3.0/180*math.pi, kf)\n",
    "    r = Robot(initial_pose, sensor=Camera(m), agent=right, color='red')\n",
    "    world.append(r)\n",
    "    \n",
    "    world.draw()"
   ]
  }
 ],
 "metadata": {
  "kernelspec": {
   "display_name": "Python 3",
   "language": "python",
   "name": "python3"
  },
  "language_info": {
   "codemirror_mode": {
    "name": "ipython",
    "version": 3
   },
   "file_extension": ".py",
   "mimetype": "text/x-python",
   "name": "python",
   "nbconvert_exporter": "python",
   "pygments_lexer": "ipython3",
   "version": "3.7.6"
  }
 },
 "nbformat": 4,
 "nbformat_minor": 4
}
