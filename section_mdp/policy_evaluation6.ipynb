{
 "cells": [
  {
   "cell_type": "code",
   "execution_count": 1,
   "metadata": {},
   "outputs": [],
   "source": [
    "import sys\n",
    "sys.path.append('../scripts/')\n",
    "from puddle_world import *\n",
    "import itertools\n",
    "import collections"
   ]
  },
  {
   "cell_type": "code",
   "execution_count": 2,
   "metadata": {},
   "outputs": [],
   "source": [
    "class PolicyEvaluator:\n",
    "    def __init__(self, widths, goal, puddles, time_interval, sampling_num, \\\n",
    "                 puddle_coef=100.0, lowerleft=np.array([-4, -4]).T, upperright=np.array([4, 4]).T):\n",
    "        self.pose_min = np.r_[lowerleft, 0]\n",
    "        self.pose_max = np.r_[upperright, math.pi*2]\n",
    "        self.widths = widths\n",
    "        self.goal = goal\n",
    "        \n",
    "        self.index_nums = ((self.pose_max - self.pose_min)/self.widths).astype(int)\n",
    "        nx, ny, nt = self.index_nums\n",
    "        self.indexes = list(itertools.product(range(nx), range(ny), range(nt)))\n",
    "        \n",
    "        self.value_function, self.final_state_flags = self.init_value_function()\n",
    "        self.policy = self.init_policy()\n",
    "        self.actions = list(set([tuple(self.policy[i]) for i in self.indexes]))\n",
    "        \n",
    "        self.state_transition_probs = self.init_state_transition_probs(time_interval, sampling_num)\n",
    "        self.depths = self.depth_means(puddles, sampling_num)\n",
    "        \n",
    "        self.time_interval = time_interval\n",
    "        self.puddle_coef = puddle_coef\n",
    "        \n",
    "    def policy_evaluation_sweep(self):\n",
    "        for index in self.indexes:\n",
    "            if not self.final_state_flags[index]:\n",
    "                self.value_function[index] = self.action_value(tuple(self.policy[index]), index)\n",
    "\n",
    "    def action_value(self, action, index):\n",
    "        value = 0.0\n",
    "        for delta, prob in self.state_transition_probs[(action, index[2])]:\n",
    "            after = tuple(self.out_correction(np.array(index).T + delta))\n",
    "            reward = - self.time_interval * self.depths[(after[0], after[1])] * self.puddle_coef - self.time_interval\n",
    "            value += (self.value_function[after] + reward) * prob\n",
    "            \n",
    "        return value\n",
    "    \n",
    "    def out_correction(self, index):\n",
    "        index[2] = (index[2] + self.index_nums[2]) % self.index_nums[2]\n",
    "        \n",
    "        return index\n",
    "    \n",
    "    def depth_means(self, puddles, sampling_num):\n",
    "        dx = np.linspace(0, self.widths[0], sampling_num)\n",
    "        dy = np.linspace(0, self.widths[1], sampling_num)\n",
    "        samples = list(itertools.product(dx, dy))\n",
    "        \n",
    "        tmp = np.zeros(self.index_nums[0:2])\n",
    "        for xy in itertools.product(range(self.index_nums[0]), range(self.index_nums[1])):\n",
    "            for s in samples:\n",
    "                pose = self.pose_min + self.widths*np.array([xy[0], xy[1], 0]).T + np.array([s[0], s[1], 0]).T\n",
    "                for p in puddles:\n",
    "                    tmp[xy] += p.depth * p.inside(pose)\n",
    "                    \n",
    "            tmp[xy] /= sampling_num**2\n",
    "            \n",
    "        return tmp\n",
    "        \n",
    "    def init_state_transition_probs(self, time_interval, sampling_num):\n",
    "        dx = np.linspace(0.001, self.widths[0]*0.999, sampling_num)\n",
    "        dy = np.linspace(0.001, self.widths[1]*0.999, sampling_num)\n",
    "        dt = np.linspace(0.001, self.widths[2]*0.999, sampling_num)\n",
    "        samples = list(itertools.product(dx, dy, dt))\n",
    "        \n",
    "        tmp = {}\n",
    "        for a in self.actions:\n",
    "            for i_t in range(self.index_nums[2]):\n",
    "                transitions = []\n",
    "                for s in samples:\n",
    "                    before = np.array([s[0], s[1], s[2] + i_t*self.widths[2]]).T + self.pose_min\n",
    "                    before_index = np.array([0, 0, i_t]).T\n",
    "                    \n",
    "                    after = IdealRobot.state_transition(a[0], a[1], time_interval, before)\n",
    "                    after_index = np.floor((after - self.pose_min)/self.widths).astype(int)\n",
    "                    \n",
    "                    transitions.append(after_index - before_index)\n",
    "                    \n",
    "                unique, count = np.unique(transitions, axis=0, return_counts=True)\n",
    "                probs = [c/sampling_num**3 for c in count]\n",
    "                tmp[a, i_t] = list(zip(unique, probs))\n",
    "                \n",
    "        return tmp\n",
    "        \n",
    "    def init_policy(self):\n",
    "        tmp = np.zeros(np.r_[self.index_nums, 2])\n",
    "        for index in self.indexes:\n",
    "            center = self.pose_min + self.widths*(np.array(index).T + 0.5)\n",
    "            tmp[index] = PuddleIgnoreAgent.policy(center, self.goal)\n",
    "            \n",
    "        return tmp\n",
    "        \n",
    "    def init_value_function(self):\n",
    "        v = np.empty(self.index_nums)\n",
    "        f = np.zeros(self.index_nums)\n",
    "        \n",
    "        for index in self.indexes:\n",
    "            f[index] = self.final_state(np.array(index).T)\n",
    "            v[index] = self.goal.value if f[index] else - 100.0\n",
    "            \n",
    "        return v, f\n",
    "    \n",
    "    def final_state(self, index):\n",
    "        x_min, y_min, _ = self.pose_min + self.widths*index\n",
    "        x_max, y_max, _ = self.pose_min + self.widths*(index + 1)\n",
    "        \n",
    "        corners = [[x_min, y_min, _], [x_min, y_max, _], [x_max, y_min, _], [x_max, y_max, _]]\n",
    "        return all([self.goal.inside(np.array(c).T) for c in corners])"
   ]
  },
  {
   "cell_type": "code",
   "execution_count": 3,
   "metadata": {},
   "outputs": [],
   "source": [
    "import seaborn as sns\n",
    "\n",
    "puddles = [Puddle((-2, 0), (0, 2), 0.1), Puddle((-0.5, -2), (2.5, 1), 0.1)]\n",
    "pe = PolicyEvaluator(np.array([0.2, 0.2, math.pi/18]).T, Goal(-3, -3), puddles, 0.1, 10)\n",
    "\n",
    "counter = 0"
   ]
  },
  {
   "cell_type": "code",
   "execution_count": 4,
   "metadata": {},
   "outputs": [
    {
     "data": {
      "application/vnd.jupyter.widget-view+json": {
       "model_id": "1fe9dd8e9bca4fca97d76055d9729fd0",
       "version_major": 2,
       "version_minor": 0
      },
      "text/plain": [
       "Canvas(toolbar=Toolbar(toolitems=[('Home', 'Reset original view', 'home', 'home'), ('Back', 'Back to previous …"
      ]
     },
     "metadata": {},
     "output_type": "display_data"
    },
    {
     "name": "stdout",
     "output_type": "stream",
     "text": [
      "10\n"
     ]
    }
   ],
   "source": [
    "for i in range(10):\n",
    "    pe.policy_evaluation_sweep()\n",
    "    counter += 1\n",
    "    \n",
    "v = pe.value_function[:, :, 18]\n",
    "sns.heatmap(np.rot90(v), square=False)\n",
    "plt.show()\n",
    "print(counter)"
   ]
  },
  {
   "cell_type": "code",
   "execution_count": null,
   "metadata": {},
   "outputs": [],
   "source": []
  }
 ],
 "metadata": {
  "kernelspec": {
   "display_name": "Python 3",
   "language": "python",
   "name": "python3"
  },
  "language_info": {
   "codemirror_mode": {
    "name": "ipython",
    "version": 3
   },
   "file_extension": ".py",
   "mimetype": "text/x-python",
   "name": "python",
   "nbconvert_exporter": "python",
   "pygments_lexer": "ipython3",
   "version": "3.7.6"
  }
 },
 "nbformat": 4,
 "nbformat_minor": 4
}
