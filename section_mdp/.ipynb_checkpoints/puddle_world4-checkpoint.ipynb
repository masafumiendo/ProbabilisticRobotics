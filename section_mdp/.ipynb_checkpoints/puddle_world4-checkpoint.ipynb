{
 "cells": [
  {
   "cell_type": "code",
   "execution_count": 7,
   "metadata": {},
   "outputs": [],
   "source": [
    "import sys\n",
    "sys.path.append('../scripts/')\n",
    "from kf import *"
   ]
  },
  {
   "cell_type": "code",
   "execution_count": 8,
   "metadata": {},
   "outputs": [],
   "source": [
    "class Goal:\n",
    "    def __init__(self, x, y, radius=0.3, value=0.0):\n",
    "        self.pos = np.array([x, y]).T\n",
    "        self.radius = radius\n",
    "        self.value = value\n",
    "        \n",
    "    def inside(self, pose):\n",
    "        return self.radius > math.sqrt((self.pos[0]-pose[0])**2 + (self.pos[1]-pose[1])**2)\n",
    "        \n",
    "    def draw(self, ax, elems):\n",
    "        x, y = self.pos\n",
    "        c = ax.scatter(x + 0.16, y + 0.5, s=50, marker=\">\", label=\"landmarks\", color=\"red\")\n",
    "        elems.append(c)\n",
    "        elems += ax.plot([x, x], [y, y + 0.6], color=\"black\")"
   ]
  },
  {
   "cell_type": "code",
   "execution_count": 9,
   "metadata": {},
   "outputs": [],
   "source": [
    "class Puddle:\n",
    "    def __init__(self, lowerleft, upperright, depth):\n",
    "        self.lowerleft = lowerleft\n",
    "        self.upperright = upperright\n",
    "        self.depth = depth\n",
    "        \n",
    "    def draw(self, ax, elems):\n",
    "        w = self.upperright[0] - self.lowerleft[0]\n",
    "        h = self.upperright[1] - self.lowerleft[1]\n",
    "        r = patches.Rectangle(self.lowerleft, w, h, color=\"blue\", alpha=self.depth)\n",
    "        elems.append(ax.add_patch(r))\n",
    "        \n",
    "    def inside(self, pose):\n",
    "        return all([self.lowerleft[i] < pose[i] < self.upperright[i] for i in [0, 1]])"
   ]
  },
  {
   "cell_type": "code",
   "execution_count": 10,
   "metadata": {},
   "outputs": [],
   "source": [
    "class PuddleWorld(World):\n",
    "    def __init__(self, time_span, time_interval, debug=False):\n",
    "        super().__init__(time_span, time_interval, debug)\n",
    "        self.puddles = []\n",
    "        self.robots = []\n",
    "        self.goals = []\n",
    "        \n",
    "    def append(self, obj):\n",
    "        self.objects.append(obj)\n",
    "        if isinstance(obj, Puddle): self.puddles.append(obj)\n",
    "        if isinstance(obj, Robot): self.robots.append(obj)\n",
    "        if isinstance(obj, Goal): self.goals.append(obj)\n",
    "            \n",
    "    def puddle_depth(self, pose):\n",
    "        return sum([p.depth * p.inside(pose) for p in self.puddles])\n",
    "    \n",
    "    def one_step(self, i, elems, ax):\n",
    "        super().one_step(i, elems, ax)\n",
    "        for r in self.robots:\n",
    "            r.agent.puddle_depth = self.puddle_depth(r.pose)\n",
    "            for g in self.goals:\n",
    "                if g.inside(r.pose):\n",
    "                    r.agent.in_goal = True\n",
    "                    r.agent.final_value = g.value"
   ]
  },
  {
   "cell_type": "code",
   "execution_count": 11,
   "metadata": {},
   "outputs": [],
   "source": [
    "class PuddleIgnoreAgent(EstimationAgent):\n",
    "    def __init__(self, time_interval, estimator, goal, puddle_coef=100):\n",
    "        super().__init__(time_interval, 0.0, 0.0, estimator)\n",
    "        \n",
    "        self.puddle_coef = puddle_coef\n",
    "        self.puddle_depth = 0.0\n",
    "        self.total_reward = 0.0\n",
    "        self.in_goal = False\n",
    "        self.final_value = 0.0\n",
    "        self.goal = goal\n",
    "        \n",
    "    def reward_per_sec(self):\n",
    "        return -1.0 - self.puddle_depth * self.puddle_coef\n",
    "    \n",
    "    @classmethod\n",
    "    def policy(cls, pose, goal):\n",
    "        x, y, theta = pose\n",
    "        dx, dy = goal.pos[0] - x, goal.pos[1] - y\n",
    "        direction = int((math.atan2(dy, dx) - theta)*180/math.pi)\n",
    "        direction = (direction + 360*1000 + 180)%360 - 180\n",
    "        \n",
    "        if direction > 10: nu, omega = 0.0, 2.0\n",
    "        elif direction < -10: nu, omega = 0.0, -2.0\n",
    "        else: nu, omega = 1.0, 0.0\n",
    "            \n",
    "        return nu, omega\n",
    "    \n",
    "    def decision(self, observation=None):\n",
    "        if self.in_goal:\n",
    "            return 0.0, 0.0\n",
    "        \n",
    "        self.estimator.motion_update(self.prev_nu, self.prev_omega, self.time_interval)\n",
    "        self.estimator.observation_update(observation)\n",
    "        \n",
    "        self.total_reward += self.time_interval * self.reward_per_sec()\n",
    "        \n",
    "        nu, omega = self.policy(self.estimator.pose, self.goal)\n",
    "        self.prev_nu, self.prev_omega = nu, omega\n",
    "        return nu, omega\n",
    "    \n",
    "    def draw(self, ax, elems):\n",
    "        super().draw(ax, elems)\n",
    "        x, y, _ = self.estimator.pose\n",
    "        elems.append(ax.text(x+1.0, y-0.5, \"reward/sec: \" + str(self.reward_per_sec()), fontsize=8))\n",
    "        elems.append(ax.text(x+1.0, y-1.0, \"total reward: {:.1f}\".format(self.total_reward), fontsize=8))"
   ]
  },
  {
   "cell_type": "code",
   "execution_count": 13,
   "metadata": {},
   "outputs": [
    {
     "data": {
      "application/vnd.jupyter.widget-view+json": {
       "model_id": "203d46d95a0b43f7ad27cb6fcd7a2506",
       "version_major": 2,
       "version_minor": 0
      },
      "text/plain": [
       "Canvas(toolbar=Toolbar(toolitems=[('Home', 'Reset original view', 'home', 'home'), ('Back', 'Back to previous …"
      ]
     },
     "metadata": {},
     "output_type": "display_data"
    }
   ],
   "source": [
    "def trial():\n",
    "    time_interval = 0.1\n",
    "    world = PuddleWorld(30, time_interval, debug=False)\n",
    "    \n",
    "    m = Map()\n",
    "    for ln in [(-4, 2), (2, -3), (4, 4), (-4, -4)]: m.append_landmark(Landmark(*ln))\n",
    "    world.append(m)\n",
    "    \n",
    "    goal = Goal(-3, -3)\n",
    "    world.append(goal)\n",
    "    \n",
    "    world.append(Puddle((-2, 0), (0, 2), 0.1))\n",
    "    world.append(Puddle((-0.5, -2), (2.5, 1), 0.1))\n",
    "    \n",
    "    initial_pose = np.array([2, 2, 0]).T\n",
    "    kf = KalmanFilter(m, initial_pose)\n",
    "    a = PuddleIgnoreAgent(time_interval, kf, goal)\n",
    "    r = Robot(initial_pose, sensor=Camera(m, distance_bias_rate_stddev=0, direction_bias_stddev=0),\n",
    "             agent=a, color=\"red\", bias_rate_stds=(0, 0))\n",
    "    world.append(r)\n",
    "    \n",
    "    world.draw()\n",
    "    \n",
    "trial()"
   ]
  },
  {
   "cell_type": "code",
   "execution_count": null,
   "metadata": {},
   "outputs": [],
   "source": []
  }
 ],
 "metadata": {
  "kernelspec": {
   "display_name": "Python 3",
   "language": "python",
   "name": "python3"
  },
  "language_info": {
   "codemirror_mode": {
    "name": "ipython",
    "version": 3
   },
   "file_extension": ".py",
   "mimetype": "text/x-python",
   "name": "python",
   "nbconvert_exporter": "python",
   "pygments_lexer": "ipython3",
   "version": "3.7.6"
  }
 },
 "nbformat": 4,
 "nbformat_minor": 4
}
