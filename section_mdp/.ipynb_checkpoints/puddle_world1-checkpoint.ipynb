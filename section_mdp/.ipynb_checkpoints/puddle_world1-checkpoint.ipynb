{
 "cells": [
  {
   "cell_type": "code",
   "execution_count": 1,
   "metadata": {},
   "outputs": [],
   "source": [
    "import sys\n",
    "sys.path.append('../scripts/')\n",
    "from kf import *"
   ]
  },
  {
   "cell_type": "code",
   "execution_count": 2,
   "metadata": {},
   "outputs": [],
   "source": [
    "class Goal:\n",
    "    def __init__(self, x, y, radius=0.3):\n",
    "        self.pos = np.array([x, y]).T\n",
    "        self.radius = radius\n",
    "        \n",
    "    def draw(self, ax, elems):\n",
    "        x, y = self.pos\n",
    "        c = ax.scatter(x + 0.16, y + 0.5, s=50, marker=\">\", label=\"landmarks\", color=\"red\")\n",
    "        elems.append(c)\n",
    "        elems += ax.plot([x, x], [y, y + 0.6], color=\"black\")"
   ]
  },
  {
   "cell_type": "code",
   "execution_count": 3,
   "metadata": {},
   "outputs": [
    {
     "data": {
      "application/vnd.jupyter.widget-view+json": {
       "model_id": "4289ffb4126740d5977d5df429238d3e",
       "version_major": 2,
       "version_minor": 0
      },
      "text/plain": [
       "Canvas(toolbar=Toolbar(toolitems=[('Home', 'Reset original view', 'home', 'home'), ('Back', 'Back to previous …"
      ]
     },
     "metadata": {},
     "output_type": "display_data"
    }
   ],
   "source": [
    "def trial():\n",
    "    time_interval = 0.1\n",
    "    world = World(30, time_interval, debug=False)\n",
    "    \n",
    "    m = Map()\n",
    "    for ln in [(-4, 2), (2, -3), (3, 3)]: m.append_landmark(Landmark(*ln))\n",
    "    world.append(m)\n",
    "    \n",
    "    world.append(Goal(-3, -3))\n",
    "    \n",
    "    initial_pose = np.array([0, 0, 0]).T\n",
    "    kf = KalmanFilter(m, initial_pose)\n",
    "    a = EstimationAgent(time_interval, 0.2, 10.0/180*math.pi, kf)\n",
    "    r = Robot(initial_pose, sensor=Camera(m, distance_bias_rate_stddev=0, direction_bias_stddev=0),\n",
    "             agent=a, color=\"red\", bias_rate_stds=(0, 0))\n",
    "    world.append(r)\n",
    "    \n",
    "    world.draw()\n",
    "    \n",
    "trial()"
   ]
  },
  {
   "cell_type": "code",
   "execution_count": null,
   "metadata": {},
   "outputs": [],
   "source": []
  }
 ],
 "metadata": {
  "kernelspec": {
   "display_name": "Python 3",
   "language": "python",
   "name": "python3"
  },
  "language_info": {
   "codemirror_mode": {
    "name": "ipython",
    "version": 3
   },
   "file_extension": ".py",
   "mimetype": "text/x-python",
   "name": "python",
   "nbconvert_exporter": "python",
   "pygments_lexer": "ipython3",
   "version": "3.7.6"
  }
 },
 "nbformat": 4,
 "nbformat_minor": 4
}
