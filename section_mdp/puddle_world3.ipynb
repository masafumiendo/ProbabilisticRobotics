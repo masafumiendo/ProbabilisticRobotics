{
 "cells": [
  {
   "cell_type": "code",
   "execution_count": 1,
   "metadata": {},
   "outputs": [],
   "source": [
    "import sys\n",
    "sys.path.append('../scripts/')\n",
    "from kf import *"
   ]
  },
  {
   "cell_type": "code",
   "execution_count": 2,
   "metadata": {},
   "outputs": [],
   "source": [
    "class Goal:\n",
    "    def __init__(self, x, y, radius=0.3):\n",
    "        self.pos = np.array([x, y]).T\n",
    "        self.radius = radius\n",
    "        \n",
    "    def draw(self, ax, elems):\n",
    "        x, y = self.pos\n",
    "        c = ax.scatter(x + 0.16, y + 0.5, s=50, marker=\">\", label=\"landmarks\", color=\"red\")\n",
    "        elems.append(c)\n",
    "        elems += ax.plot([x, x], [y, y + 0.6], color=\"black\")"
   ]
  },
  {
   "cell_type": "code",
   "execution_count": 3,
   "metadata": {},
   "outputs": [],
   "source": [
    "class Puddle:\n",
    "    def __init__(self, lowerleft, upperright, depth):\n",
    "        self.lowerleft = lowerleft\n",
    "        self.upperright = upperright\n",
    "        self.depth = depth\n",
    "        \n",
    "    def draw(self, ax, elems):\n",
    "        w = self.upperright[0] - self.lowerleft[0]\n",
    "        h = self.upperright[1] - self.lowerleft[1]\n",
    "        r = patches.Rectangle(self.lowerleft, w, h, color=\"blue\", alpha=self.depth)\n",
    "        elems.append(ax.add_patch(r))\n",
    "        \n",
    "    def inside(self, pose):\n",
    "        return all([self.lowerleft[i] < pose[i] < self.upperright[i] for i in [0, 1]])"
   ]
  },
  {
   "cell_type": "code",
   "execution_count": 4,
   "metadata": {},
   "outputs": [],
   "source": [
    "class PuddleWorld(World):\n",
    "    def __init__(self, time_span, time_interval, debug):\n",
    "        super().__init__(time_span, time_interval, debug)\n",
    "        self.puddles = []\n",
    "        self.robots = []\n",
    "        self.goals = []\n",
    "        \n",
    "    def append(self, obj):\n",
    "        self.objects.append(obj)\n",
    "        if isinstance(obj, Puddle): self.puddles.append(obj)\n",
    "        if isinstance(obj, Robot): self.robots.append(obj)\n",
    "        if isinstance(obj, Goal): self.goals.append(obj)\n",
    "            \n",
    "    def puddle_depth(self, pose):\n",
    "        return sum([p.depth * p.inside(pose) for p in self.puddles])\n",
    "    \n",
    "    def one_step(self, i, elems, ax):\n",
    "        super().one_step(i, elems, ax)\n",
    "        for r in self.robots:\n",
    "            r.agent.puddle_depth = self.puddle_depth(r.pose)"
   ]
  },
  {
   "cell_type": "code",
   "execution_count": 5,
   "metadata": {},
   "outputs": [],
   "source": [
    "class PuddleIgnoreAgent(EstimationAgent):\n",
    "    def __init__(self, time_interval, nu, omega, estimator, puddle_coef=100):\n",
    "        super().__init__(time_interval, nu, omega, estimator)\n",
    "        \n",
    "        self.puddle_coef = puddle_coef\n",
    "        self.puddle_depth = 0.0\n",
    "        self.total_reward = 0.0\n",
    "        \n",
    "    def reward_per_sec(self):\n",
    "        return -1.0 - self.puddle_depth * self.puddle_coef\n",
    "    \n",
    "    def decision(self, observation=None):\n",
    "        self.estimator.motion_update(self.prev_nu, self.prev_omega, self.time_interval)\n",
    "        self.prev_nu, self.prev_omega = self.nu, self.omega\n",
    "        self.estimator.observation_update(observation)\n",
    "        \n",
    "        self.total_reward += self.time_interval * self.reward_per_sec()\n",
    "        \n",
    "        return self.nu, self.omega\n",
    "    \n",
    "    def draw(self, ax, elems):\n",
    "        super().draw(ax, elems)\n",
    "        x, y, _ = self.estimator.pose\n",
    "        elems.append(ax.text(x+1.0, y-0.5, \"reward/sec: \" + str(self.reward_per_sec()), fontsize=8))\n",
    "        elems.append(ax.text(x+1.0, y-1.0, \"total reward: {:.1f}\".format(self.total_reward), fontsize=8))"
   ]
  },
  {
   "cell_type": "code",
   "execution_count": 9,
   "metadata": {},
   "outputs": [
    {
     "data": {
      "application/vnd.jupyter.widget-view+json": {
       "model_id": "6a072b2d0ada423c8e973124336642d9",
       "version_major": 2,
       "version_minor": 0
      },
      "text/plain": [
       "Canvas(toolbar=Toolbar(toolitems=[('Home', 'Reset original view', 'home', 'home'), ('Back', 'Back to previous …"
      ]
     },
     "metadata": {},
     "output_type": "display_data"
    }
   ],
   "source": [
    "def trial():\n",
    "    time_interval = 0.1\n",
    "    world = PuddleWorld(40, time_interval, debug=False)\n",
    "    \n",
    "    m = Map()\n",
    "    for ln in [(-4, 2), (2, -3), (3, 3)]: m.append_landmark(Landmark(*ln))\n",
    "    world.append(m)\n",
    "    \n",
    "    world.append(Goal(-3, -3))\n",
    "    \n",
    "    world.append(Puddle((-2, 0), (0, 2), 0.1))\n",
    "    world.append(Puddle((-0.5, -2), (2.5, 1), 0.1))\n",
    "    \n",
    "    initial_pose = np.array([0, 0, 0]).T\n",
    "    kf = KalmanFilter(m, initial_pose)\n",
    "    a = PuddleIgnoreAgent(time_interval, 0.2, 10.0/180*math.pi, kf)\n",
    "    r = Robot(initial_pose, sensor=Camera(m, distance_bias_rate_stddev=0, direction_bias_stddev=0),\n",
    "             agent=a, color=\"red\", bias_rate_stds=(0, 0))\n",
    "    world.append(r)\n",
    "    \n",
    "    world.draw()\n",
    "    \n",
    "trial()"
   ]
  },
  {
   "cell_type": "code",
   "execution_count": null,
   "metadata": {},
   "outputs": [],
   "source": []
  }
 ],
 "metadata": {
  "kernelspec": {
   "display_name": "Python 3",
   "language": "python",
   "name": "python3"
  },
  "language_info": {
   "codemirror_mode": {
    "name": "ipython",
    "version": 3
   },
   "file_extension": ".py",
   "mimetype": "text/x-python",
   "name": "python",
   "nbconvert_exporter": "python",
   "pygments_lexer": "ipython3",
   "version": "3.7.6"
  }
 },
 "nbformat": 4,
 "nbformat_minor": 4
}
