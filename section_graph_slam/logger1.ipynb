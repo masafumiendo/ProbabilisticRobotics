{
 "cells": [
  {
   "cell_type": "code",
   "execution_count": 1,
   "metadata": {},
   "outputs": [],
   "source": [
    "import sys\n",
    "sys.path.append('../scripts/')\n",
    "from robot import *"
   ]
  },
  {
   "cell_type": "code",
   "execution_count": null,
   "metadata": {},
   "outputs": [],
   "source": [
    "class PsiCamera(Camera):\n",
    "    def data(self, cam_pose, orientation_noise=math.pi/90):\n",
    "        observed = []\n",
    "        for lm in self.map.landmarks:\n",
    "            psi = norm.rvs(loc=math.atan2(cam_pose[1] - lm.pos[1], cam_pose[0] - lm.pos[0]), scale=orientation_noise)\n",
    "            z = self.observation_function(cam_pose, lm.pos)\n",
    "            z = self.phantom(cam_pose, z)\n",
    "            z = self.oversight(z)\n",
    "            if self.visible(z):\n",
    "                z = self.bias(z)\n",
    "                z = self.noise(z)\n",
    "                observed.append(([z[0], z[1], psi], lm.id))\n",
    "                \n",
    "        self.lastdata = observed\n",
    "        return observed"
   ]
  }
 ],
 "metadata": {
  "kernelspec": {
   "display_name": "Python 3",
   "language": "python",
   "name": "python3"
  },
  "language_info": {
   "codemirror_mode": {
    "name": "ipython",
    "version": 3
   },
   "file_extension": ".py",
   "mimetype": "text/x-python",
   "name": "python",
   "nbconvert_exporter": "python",
   "pygments_lexer": "ipython3",
   "version": "3.7.6"
  }
 },
 "nbformat": 4,
 "nbformat_minor": 4
}
