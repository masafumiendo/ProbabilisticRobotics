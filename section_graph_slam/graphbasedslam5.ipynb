{
 "cells": [
  {
   "cell_type": "code",
   "execution_count": 16,
   "metadata": {},
   "outputs": [],
   "source": [
    "import sys\n",
    "sys.path.append('../scripts/')\n",
    "from kf import *"
   ]
  },
  {
   "cell_type": "code",
   "execution_count": 17,
   "metadata": {},
   "outputs": [],
   "source": [
    "def make_ax():\n",
    "    fig = plt.figure(figsize=(4, 4))\n",
    "    ax = fig.add_subplot(111)\n",
    "    ax.set_aspect('equal')\n",
    "    ax.set_xlim(-5, 5)\n",
    "    ax.set_ylim(-5, 5)\n",
    "    ax.set_xlabel(\"X\", fontsize=10)\n",
    "    ax.set_ylabel(\"Y\", fontsize=10)\n",
    "    return ax\n",
    "\n",
    "def draw_trajectory(xs, ax):\n",
    "    poses = [xs[s] for s in range(len(xs))]\n",
    "    ax.scatter([e[0] for e in poses], [e[1] for e in poses], s=5, marker=\".\", color=\"black\")\n",
    "    ax.plot([e[0] for e in poses], [e[1] for e in poses], linewidth=0.5, color=\"black\")\n",
    "    \n",
    "def draw_observation(xs, zlist, ax):\n",
    "    for s in range(len(xs)):\n",
    "        if s not in zlist:\n",
    "            continue\n",
    "            \n",
    "        for obs in zlist[s]:\n",
    "            x, y, theta = xs[s]\n",
    "            ell, phi = obs[1][0], obs[1][1]\n",
    "            mx = x + ell*math.cos(theta + phi)\n",
    "            my = y + ell*math.sin(theta + phi)\n",
    "            ax.plot([x, mx], [y, my], color=\"pink\", alpha=0.5)\n",
    "\n",
    "def draw_edges(edges, ax):\n",
    "    for e in edges:\n",
    "        ax.plot([e.x1[0], e.x2[0]], [e.x1[1], e.x2[1]], color=\"red\", alpha=0.5)\n",
    "            \n",
    "def draw(xs, zlist, edges):\n",
    "    ax = make_ax()\n",
    "    draw_observation(xs, zlist, ax)\n",
    "    # draw_edges(edges, ax)\n",
    "    draw_trajectory(xs, ax)\n",
    "    plt.show()"
   ]
  },
  {
   "cell_type": "code",
   "execution_count": 18,
   "metadata": {},
   "outputs": [],
   "source": [
    "def read_data():\n",
    "    hat_xs = {}\n",
    "    zlist = {}\n",
    "    \n",
    "    with open(\"log.txt\") as f:\n",
    "        for line in f.readlines():\n",
    "            tmp = line.rstrip().split()\n",
    "            \n",
    "            step = int(tmp[1])\n",
    "            if tmp[0] == \"x\":\n",
    "                hat_xs[step] = np.array([float(tmp[2]), float(tmp[3]), float(tmp[4])]).T\n",
    "            elif tmp[0] == \"z\":\n",
    "                if step not in zlist:\n",
    "                    zlist[step] = []\n",
    "                zlist[step].append((int(tmp[2]), np.array([float(tmp[3]), float(tmp[4]), float(tmp[5])]).T))\n",
    "                \n",
    "        return hat_xs, zlist"
   ]
  },
  {
   "cell_type": "code",
   "execution_count": 19,
   "metadata": {},
   "outputs": [],
   "source": [
    "class ObsEdge:\n",
    "    def __init__(self, t1, t2, z1, z2, xs, sensor_noise_rate=[0.14, 0.05, 0.05]):\n",
    "        assert z1[0] == z2[0]\n",
    "        \n",
    "        self.t1, self.t2 = t1, t2\n",
    "        self.x1, self.x2 = xs[t1], xs[t2]\n",
    "        self.z1, self.z2 = z1[1], z2[1]\n",
    "        \n",
    "        s1 = math.sin(self.x1[2] + self.z1[1])\n",
    "        c1 = math.cos(self.x1[2] + self.z1[1])\n",
    "        s2 = math.sin(self.x2[2] + self.z2[1])\n",
    "        c2 = math.cos(self.x2[2] + self.z2[1])\n",
    "        \n",
    "        hat_e = self.x2 - self.x1 + np.array([\n",
    "            self.z2[0]*c2 - self.z1[0]*c1,\n",
    "            self.z2[0]*s2 - self.z1[0]*s1,\n",
    "            self.z2[1] - self.z2[2] - self.z1[1] + self.z1[2]\n",
    "        ])\n",
    "        while hat_e[2] >= math.pi: hat_e[2] -= math.pi*2\n",
    "        while hat_e[2] < - math.pi: hat_e[2] += math.pi*2\n",
    "            \n",
    "        Q1 = np.diag([(self.z1[0]*sensor_noise_rate[0])**2, sensor_noise_rate[1]**2, sensor_noise_rate[2]**2])\n",
    "        R1 = - np.array([[c1, -self.z1[0]*s1, 0],\n",
    "                        [s1, self.z1[0]*c1, 0],\n",
    "                        [0, 1, -1]])\n",
    "        \n",
    "        Q2 = np.diag([(self.z2[0]*sensor_noise_rate[0])**2, sensor_noise_rate[1]**2, sensor_noise_rate[2]**2])\n",
    "        R2 = np.array([[c2, -self.z2[0]*s2, 0],\n",
    "                      [s2, self.z2[0]*c2, 0],\n",
    "                      [0, 1, -1]])\n",
    "        \n",
    "        Sigma = R1.dot(Q1).dot(R1.T) + R2.dot(Q2).dot(R2.T)\n",
    "        Omega = np.linalg.inv(Sigma)\n",
    "        \n",
    "        B1 = - np.array([[1, 0, -self.z1[0]*s1],\n",
    "                        [0, 1, self.z1[0]*c1],\n",
    "                        [0, 0, 1]])\n",
    "        B2 = np.array([[1, 0, -self.z2[0]*s2],\n",
    "                      [0, 1, self.z2[0]*c2],\n",
    "                      [0, 0, 1]])\n",
    "        \n",
    "        self.omega_upperleft = B1.T.dot(Omega).dot(B1)\n",
    "        self.omega_upperright = B1.T.dot(Omega).dot(B2)\n",
    "        self.omega_bottomleft = B2.T.dot(Omega).dot(B1)\n",
    "        self.omega_bottomright = B2.T.dot(Omega).dot(B2)\n",
    "        \n",
    "        self.xi_upper = - B1.T.dot(Omega).dot(hat_e)\n",
    "        self.xi_bottom = - B2.T.dot(Omega).dot(hat_e)"
   ]
  },
  {
   "cell_type": "code",
   "execution_count": 20,
   "metadata": {},
   "outputs": [],
   "source": [
    "import itertools\n",
    "def make_edges(hat_xs, zlist):\n",
    "    landmark_keys_zlist = {}\n",
    "    \n",
    "    for step in zlist:\n",
    "        for z in zlist[step]:\n",
    "            landmark_id = z[0]\n",
    "            if landmark_id not in landmark_keys_zlist:\n",
    "                landmark_keys_zlist[landmark_id] = []\n",
    "                \n",
    "            landmark_keys_zlist[landmark_id].append((step, z))\n",
    "            \n",
    "    edges = []\n",
    "    for landmark_id in landmark_keys_zlist:\n",
    "        step_pairs = list(itertools.combinations(landmark_keys_zlist[landmark_id], 2))\n",
    "        edges += [ObsEdge(xz1[0], xz2[0], xz1[1], xz2[1], hat_xs) for xz1, xz2 in step_pairs]\n",
    "        \n",
    "    return edges"
   ]
  },
  {
   "cell_type": "code",
   "execution_count": 21,
   "metadata": {},
   "outputs": [],
   "source": [
    "def add_edge(edge, Omega, xi):\n",
    "    f1, f2 = edge.t1*3, edge.t2*3\n",
    "    t1, t2 = f1 + 3, f2 + 3\n",
    "    Omega[f1:t1, f1:t1] += edge.omega_upperleft\n",
    "    Omega[f1:t1, f2:t2] += edge.omega_upperright\n",
    "    Omega[f2:t2, f1:t1] += edge.omega_bottomleft\n",
    "    Omega[f2:t2, f2:t2] += edge.omega_bottomright\n",
    "    xi[f1:t1] += edge.xi_upper\n",
    "    xi[f2:t2] += edge.xi_bottom"
   ]
  },
  {
   "cell_type": "code",
   "execution_count": 22,
   "metadata": {},
   "outputs": [
    {
     "name": "stdout",
     "output_type": "stream",
     "text": [
      "1回目の繰り返し: 11.988420313400347\n",
      "2回目の繰り返し: 4.882341706264776\n",
      "3回目の繰り返し: 1.8927388248590256\n",
      "4回目の繰り返し: 1.0133328358309237\n",
      "5回目の繰り返し: 0.5467541486903976\n",
      "6回目の繰り返し: 0.29596337082790475\n",
      "7回目の繰り返し: 0.16021991106293004\n",
      "8回目の繰り返し: 0.08656924170933146\n",
      "9回目の繰り返し: 0.04657211670746903\n",
      "10回目の繰り返し: 0.024844798975677138\n",
      "11回目の繰り返し: 0.013044409818578233\n",
      "12回目の繰り返し: 0.006644362564946515\n"
     ]
    },
    {
     "data": {
      "application/vnd.jupyter.widget-view+json": {
       "model_id": "e7d9b5d1ba82436dae556b67ae34c35d",
       "version_major": 2,
       "version_minor": 0
      },
      "text/plain": [
       "Canvas(toolbar=Toolbar(toolitems=[('Home', 'Reset original view', 'home', 'home'), ('Back', 'Back to previous …"
      ]
     },
     "metadata": {},
     "output_type": "display_data"
    }
   ],
   "source": [
    "hat_xs, zlist = read_data()\n",
    "dim = len(hat_xs)*3\n",
    "\n",
    "for n in range(1, 10000):\n",
    "    edges = make_edges(hat_xs, zlist)\n",
    "    Omega = np.zeros((dim, dim))\n",
    "    xi = np.zeros(dim)\n",
    "    Omega[0:3, 0:3] += np.eye(3)*1000000\n",
    "    \n",
    "    for e in edges:\n",
    "        add_edge(e, Omega, xi)\n",
    "        \n",
    "    delta_xs = np.linalg.inv(Omega).dot(xi)\n",
    "    \n",
    "    for i in range(len(hat_xs)):\n",
    "        hat_xs[i] += delta_xs[i*3:(i+1)*3]\n",
    "        \n",
    "    diff = np.linalg.norm(delta_xs)\n",
    "    print(\"{}回目の繰り返し: {}\".format(n, diff))\n",
    "    if diff < 0.01:\n",
    "        draw(hat_xs, zlist, edges)\n",
    "        break"
   ]
  },
  {
   "cell_type": "code",
   "execution_count": null,
   "metadata": {},
   "outputs": [],
   "source": []
  }
 ],
 "metadata": {
  "kernelspec": {
   "display_name": "Python 3",
   "language": "python",
   "name": "python3"
  },
  "language_info": {
   "codemirror_mode": {
    "name": "ipython",
    "version": 3
   },
   "file_extension": ".py",
   "mimetype": "text/x-python",
   "name": "python",
   "nbconvert_exporter": "python",
   "pygments_lexer": "ipython3",
   "version": "3.7.6"
  }
 },
 "nbformat": 4,
 "nbformat_minor": 4
}
