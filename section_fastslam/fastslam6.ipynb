{
 "cells": [
  {
   "cell_type": "code",
   "execution_count": 37,
   "metadata": {},
   "outputs": [],
   "source": [
    "import sys\n",
    "sys.path.append('../scripts/')\n",
    "from mcl import *\n",
    "from kf import *"
   ]
  },
  {
   "cell_type": "code",
   "execution_count": 38,
   "metadata": {},
   "outputs": [],
   "source": [
    "class EstimatedLandmark(Landmark):\n",
    "    def __init__(self):\n",
    "        super().__init__(0, 0)\n",
    "        self.cov = None\n",
    "        \n",
    "    def draw(self, ax, elems):\n",
    "        if self.cov is None:\n",
    "            return\n",
    "        \n",
    "        c = ax.scatter(self.pos[0], self.pos[1], s=100, marker='*', label='landmarks', color='blue')\n",
    "        elems.append(c)\n",
    "        elems.append(ax.text(self.pos[0], self.pos[1], 'id: '+ str(self.id), fontsize=10))\n",
    "        \n",
    "        e = sigma_ellipse(self.pos, self.cov, 3)\n",
    "        elems.append(ax.add_patch(e))"
   ]
  },
  {
   "cell_type": "code",
   "execution_count": 39,
   "metadata": {},
   "outputs": [],
   "source": [
    "class MapParticle(Particle): ###fastslam6mapparticle\n",
    "    def __init__(self, init_pose, weight, landmark_num):\n",
    "        super().__init__(init_pose, weight)\n",
    "        self.map = Map()\n",
    "        \n",
    "        for i in range(landmark_num):\n",
    "            self.map.append_landmark(EstimatedLandmark())\n",
    "            \n",
    "    def drawing_params(self, hat_x, landmark, distance_dev_rate, direction_dev):\n",
    "        ##観測関数の線形化##\n",
    "        ell = np.hypot(*(hat_x[0:2] - landmark.pos))\n",
    "        Qhat_zt = matQ(distance_dev_rate*ell, direction_dev)\n",
    "        hat_zt = IdealCamera.observation_function(hat_x, landmark.pos)\n",
    "        H_m = - matH(hat_x, landmark.pos)[0:2,0:2]\n",
    "        H_xt = matH(hat_x, landmark.pos)\n",
    "            \n",
    "        ##パーティクルの姿勢と地図からセンサ値の分布の共分散行列を計算##\n",
    "        Q_zt = H_m.dot(landmark.cov).dot(H_m.T) + Qhat_zt        \n",
    "        \n",
    "        return hat_zt, Q_zt, H_xt\n",
    "            \n",
    "    def gauss_for_drawing(self, hat_x, R_t, z, landmark, distance_dev_rate, direction_dev):\n",
    "        hat_zt, Q_zt, H_xt = self.drawing_params(hat_x, landmark, distance_dev_rate, direction_dev)\n",
    "        K = R_t.dot(H_xt.T).dot(np.linalg.inv(Q_zt + H_xt.dot(R_t).dot(H_xt.T)))\n",
    "        \n",
    "        return K.dot(z - hat_zt) + hat_x, (np.eye(3) - K.dot(H_xt)).dot(R_t)\n",
    "            \n",
    "    def motion_update2(self, nu, omega, time, motion_noise_stds, observation, distance_dev_rate, direction_dev): #変更\n",
    "        ##移動後の分布を作る##\n",
    "        M = matM(nu, omega, time, motion_noise_stds)\n",
    "        A = matA(nu, omega, time, self.pose[2])\n",
    "        R_t = A.dot(M).dot(A.T)\n",
    "        hat_x = IdealRobot.state_transition(nu, omega, time, self.pose)\n",
    "            \n",
    "        for d in observation:\n",
    "            hat_x, R_t = self.gauss_for_drawing(hat_x, R_t, d[0], self.map.landmarks[d[1]], distance_dev_rate, direction_dev)\n",
    "            \n",
    "        self.pose = multivariate_normal(mean=hat_x, cov=R_t + np.eye(3)*1.0e-10).rvs() #次元が足りないので少し共分散を足す\n",
    "        \n",
    "    def init_landmark_estimation(self, landmark, z, distance_dev_rate, direction_dev):\n",
    "        landmark.pos = z[0]*np.array([np.cos(self.pose[2] + z[1]), np.sin(self.pose[2]  + z[1])]).T + self.pose[0:2]\n",
    "        H = matH(self.pose, landmark.pos)[0:2,0:2] \n",
    "        Q = matQ(distance_dev_rate*z[0], direction_dev)\n",
    "        landmark.cov = np.linalg.inv(H.T.dot( np.linalg.inv(Q) ).dot(H))\n",
    "        \n",
    "    def observation_update_landmark(self, landmark, z, distance_dev_rate, direction_dev):\n",
    "        estm_z = IdealCamera.observation_function(self.pose, landmark.pos)\n",
    "        if estm_z[0] < 0.01: \n",
    "            return\n",
    "\n",
    "        H = - matH(self.pose, landmark.pos)[0:2,0:2] \n",
    "        Q = matQ(distance_dev_rate*estm_z[0], direction_dev)\n",
    "        K = landmark.cov.dot(H.T).dot( np.linalg.inv(Q + H.dot(landmark.cov).dot(H.T)) )\n",
    "        \n",
    "        ##重みの更新# \n",
    "        Q_z = H.dot(landmark.cov).dot(H.T) + Q\n",
    "        self.weight *= multivariate_normal(mean=estm_z, cov=Q_z).pdf(z)  \n",
    "        \n",
    "        ##ランドマークの推定の更新##\n",
    "        landmark.pos = K.dot(z - estm_z) + landmark.pos\n",
    "        landmark.cov = (np.eye(2) - K.dot(H)).dot(landmark.cov)\n",
    "        \n",
    "    def observation_update(self, observation, distance_dev_rate, direction_dev): \n",
    "        for d in observation:\n",
    "            z = d[0]\n",
    "            landmark = self.map.landmarks[d[1]]\n",
    "            \n",
    "            if landmark.cov is None:\n",
    "                self.init_landmark_estimation(landmark, z, distance_dev_rate, direction_dev)\n",
    "            else:\n",
    "                self.observation_update_landmark(landmark, z, distance_dev_rate, direction_dev)"
   ]
  },
  {
   "cell_type": "code",
   "execution_count": 40,
   "metadata": {},
   "outputs": [],
   "source": [
    "class FastSlam(Mcl):\n",
    "    def __init__(self, init_pose, particle_num, landmark_num, motion_noise_stds={'nn': 0.19, 'no': 0.001, 'on': 0.13, 'oo': 0.2},\n",
    "                distance_dev_rate=0.14, direction_dev=0.05):\n",
    "        super().__init__(None, init_pose, particle_num, motion_noise_stds, distance_dev_rate, direction_dev)\n",
    "        \n",
    "        self.particles = [MapParticle(init_pose, 1.0/particle_num, landmark_num) for i in range(particle_num)]\n",
    "        self.ml = self.particles[0]\n",
    "        \n",
    "        self.motion_noise_stds = motion_noise_stds\n",
    "        \n",
    "    def motion_update(self, nu, omega, time, observation):\n",
    "        not_first_obs = []\n",
    "        for d in observation:\n",
    "            if self.particles[0].map.landmarks[d[1]].cov is not None:\n",
    "                not_first_obs.append(d)\n",
    "                \n",
    "        if len(not_first_obs) > 0:\n",
    "            for p in self.particles: p.motion_update2(nu, omega, time, self.motion_noise_stds, not_first_obs, \n",
    "                                                     self.distance_dev_rate, self.direction_dev)\n",
    "        else:\n",
    "            for p in self.particles: p.motion_update(nu, omega, time, self.motion_noise_rate_pdf)\n",
    "            \n",
    "    def observation_update(self, observation):\n",
    "        for p in self.particles:\n",
    "            p.observation_update(observation, self.distance_dev_rate, self.direction_dev)\n",
    "        self.set_ml()\n",
    "        self.resampling()\n",
    "        \n",
    "    def draw(self, ax, elems):\n",
    "        super().draw(ax, elems)\n",
    "        self.ml.map.draw(ax, elems)"
   ]
  },
  {
   "cell_type": "code",
   "execution_count": 41,
   "metadata": {},
   "outputs": [],
   "source": [
    "class FastSlam2Agent(EstimationAgent):\n",
    "    def __init__(self, time_interval, nu, omega, estimator):\n",
    "        super().__init__(time_interval, nu, omega, estimator)\n",
    "        \n",
    "    def decision(self, observation=None):\n",
    "        self.estimator.motion_update(self.prev_nu, self.prev_omega, self.time_interval, observation)\n",
    "        self.prev_nu, self.prev_omega = self.nu, self.omega\n",
    "        self.estimator.observation_update(observation)\n",
    "        return self.nu, self.omega"
   ]
  },
  {
   "cell_type": "code",
   "execution_count": 42,
   "metadata": {},
   "outputs": [
    {
     "data": {
      "application/vnd.jupyter.widget-view+json": {
       "model_id": "8f4f23b356904945b2e13321eec1d5ca",
       "version_major": 2,
       "version_minor": 0
      },
      "text/plain": [
       "Canvas(toolbar=Toolbar(toolitems=[('Home', 'Reset original view', 'home', 'home'), ('Back', 'Back to previous …"
      ]
     },
     "metadata": {},
     "output_type": "display_data"
    }
   ],
   "source": [
    "def trial():\n",
    "    time_interval = 0.1\n",
    "    world = World(30, time_interval, debug=False)\n",
    "    \n",
    "    m = Map()\n",
    "    for ln in [(-4, 2), (2, -3), (3, 3)]: m.append_landmark(Landmark(*ln))\n",
    "    world.append(m)\n",
    "    \n",
    "    init_pose = np.array([0, 0, 0]).T\n",
    "    pf = FastSlam(init_pose, 100, len(m.landmarks))\n",
    "    a = FastSlam2Agent(time_interval, 0.2, 10.0/180*math.pi, pf)\n",
    "    r = Robot(init_pose, sensor=Camera(m), agent=a, color='red')\n",
    "    world.append(r)\n",
    "    \n",
    "    world.draw()\n",
    "    \n",
    "trial()"
   ]
  },
  {
   "cell_type": "code",
   "execution_count": null,
   "metadata": {},
   "outputs": [],
   "source": []
  }
 ],
 "metadata": {
  "kernelspec": {
   "display_name": "Python 3",
   "language": "python",
   "name": "python3"
  },
  "language_info": {
   "codemirror_mode": {
    "name": "ipython",
    "version": 3
   },
   "file_extension": ".py",
   "mimetype": "text/x-python",
   "name": "python",
   "nbconvert_exporter": "python",
   "pygments_lexer": "ipython3",
   "version": "3.7.6"
  }
 },
 "nbformat": 4,
 "nbformat_minor": 4
}
